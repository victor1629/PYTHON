{
 "cells": [
  {
   "cell_type": "code",
   "execution_count": 1,
   "metadata": {},
   "outputs": [
    {
     "data": {
      "text/plain": [
       "int"
      ]
     },
     "execution_count": 1,
     "metadata": {},
     "output_type": "execute_result"
    }
   ],
   "source": [
    "n=5\n",
    "type(n)"
   ]
  },
  {
   "cell_type": "code",
   "execution_count": 2,
   "metadata": {},
   "outputs": [
    {
     "name": "stdout",
     "output_type": "stream",
     "text": [
      "<class 'int'>\n"
     ]
    }
   ],
   "source": [
    "n=5\n",
    "print(type(n))"
   ]
  },
  {
   "cell_type": "code",
   "execution_count": 4,
   "metadata": {},
   "outputs": [
    {
     "data": {
      "text/plain": [
       "__main__.Person"
      ]
     },
     "execution_count": 4,
     "metadata": {},
     "output_type": "execute_result"
    }
   ],
   "source": [
    "#自訂的類別\n",
    "class Person():\n",
    "    pass\n",
    "\n",
    "p1= Person()\n",
    "type(p1)"
   ]
  },
  {
   "cell_type": "code",
   "execution_count": 3,
   "metadata": {},
   "outputs": [
    {
     "name": "stdout",
     "output_type": "stream",
     "text": [
      "<__main__.Color object at 0x73ff2c0e6680>\n"
     ]
    }
   ],
   "source": [
    "class Color():\n",
    "    pass\n",
    "\n",
    "c1=Color()\n",
    "print(c1)"
   ]
  },
  {
   "cell_type": "code",
   "execution_count": 16,
   "metadata": {},
   "outputs": [
    {
     "name": "stdout",
     "output_type": "stream",
     "text": [
      "p1的name:陳建豪\n",
      "p2的name:Victor\n"
     ]
    }
   ],
   "source": [
    "#練習\n",
    "#自訂的attribute,必需有自訂的init\n",
    "#自訂的init\n",
    "#建立attribute name\n",
    "class Person():\n",
    "     def __init__(self,n:str):\n",
    "          super().__init__()\n",
    "          self.name = n\n",
    "\n",
    "p1 = Person('陳建豪')\n",
    "print(f'p1的name:{p1.name}')\n",
    "\n",
    "p2 =Person('Victor')\n",
    "print(f'p2的name:{p2.name}')\n"
   ]
  },
  {
   "cell_type": "code",
   "execution_count": 1,
   "metadata": {},
   "outputs": [
    {
     "name": "stdout",
     "output_type": "stream",
     "text": [
      "p1的name:陳建豪\n",
      "我是Person的實體,我的名字陳建豪\n",
      "p2的name:Robert Hsu\n",
      "我是Person的實體,我的名字Robert Hsu\n"
     ]
    }
   ],
   "source": [
    "#自訂的attribute,必需有自訂的init\n",
    "#自訂的init\n",
    "#建立attribute name\n",
    "#自訂的__repr__\n",
    "\n",
    "class Person():\n",
    "    def __init__(self,n:str):\n",
    "        super().__init__()\n",
    "        self.name = n\n",
    "    def __repr__(self):\n",
    "        return f\"我是Person的實體,我的名字{self.name}\"\n",
    "\n",
    "p1 = Person(\"陳建豪\")\n",
    "print(f'p1的name:{p1.name}')\n",
    "print(p1)\n",
    "\n",
    "p2 = Person(n=\"Robert Hsu\")\n",
    "print(f'p2的name:{p2.name}')\n",
    "print(p2)"
   ]
  },
  {
   "cell_type": "code",
   "execution_count": 7,
   "metadata": {},
   "outputs": [
    {
     "name": "stdout",
     "output_type": "stream",
     "text": [
      "p1的名字:victor\n",
      "我是Person的實體,我的名字victor\n",
      "p2的名字:jane\n",
      "我是Person的實體,我的名字jane\n"
     ]
    }
   ],
   "source": [
    "#練習\n",
    "class Person():\n",
    "    def __init__(self,n:str):\n",
    "        super().__init__()\n",
    "        self.name = n\n",
    "    def __repr__(self):\n",
    "        return f\"我是Person的實體,我的名字{self.name}\"\n",
    "p1 = Person(\"victor\")\n",
    "print(f\"p1的名字:{p1.name}\")\n",
    "print(p1)\n",
    "\n",
    "p2 = Person(\"jane\")\n",
    "print(f\"p2的名字:{p2.name}\")\n",
    "print(p2)\n",
    "    "
   ]
  },
  {
   "cell_type": "markdown",
   "metadata": {},
   "source": [
    "繼承"
   ]
  },
  {
   "cell_type": "code",
   "execution_count": 18,
   "metadata": {},
   "outputs": [],
   "source": [
    "class Person():\n",
    "    def __init__(self,n:str):\n",
    "        super().__init__()\n",
    "        self.name = n\n",
    "\n",
    "    def __repr__(self):\n",
    "        return f\"我是Person的實體,我的名字{self.name}\"\n",
    "    \n",
    "class Student(Person):\n",
    "    def __init__(self,n:str,s:int):\n",
    "        super().__init__(n)\n",
    "        self.scores = s\n",
    "    \n",
    "    def __repr__(self):\n",
    "        before = super().__repr__()\n",
    "        return f\"{before},總分為{self.scores}\""
   ]
  },
  {
   "cell_type": "code",
   "execution_count": 25,
   "metadata": {},
   "outputs": [],
   "source": [
    "#練習\n",
    "class Person():\n",
    "    def __init__(self,n:str) -> None:\n",
    "        super().__init__()\n",
    "        self.name = n\n",
    "\n",
    "    def __repr__(self) -> str:\n",
    "        return f\"我是Person的實體,我的名字{self.name}\"\n",
    "    \n",
    "class Student(Person):\n",
    "    def __init__(self,n:str,s:int) -> None:\n",
    "        super().__init__(n)\n",
    "        self.scores = s\n",
    "    def __repr__(self) -> str:\n",
    "        before=super().__repr__()\n",
    "        return f\"{before},總分為{self.scores}\"\n",
    "\n",
    "\n"
   ]
  },
  {
   "cell_type": "code",
   "execution_count": 26,
   "metadata": {},
   "outputs": [
    {
     "name": "stdout",
     "output_type": "stream",
     "text": [
      "徐國堂 270\n",
      "我是Person的實體,我的名字徐國堂,總分為270\n",
      "Robert Hsu 290\n",
      "我是Person的實體,我的名字Robert Hsu,總分為290\n"
     ]
    }
   ],
   "source": [
    "s1 = Student(\"徐國堂\",270)\n",
    "print(s1.name, s1.scores)\n",
    "print(s1)\n",
    "\n",
    "s2 = Student(\"Robert Hsu\",290)\n",
    "print(s2.name, s2.scores)\n",
    "print(s2)"
   ]
  }
 ],
 "metadata": {
  "kernelspec": {
   "display_name": "Python 3",
   "language": "python",
   "name": "python3"
  },
  "language_info": {
   "codemirror_mode": {
    "name": "ipython",
    "version": 3
   },
   "file_extension": ".py",
   "mimetype": "text/x-python",
   "name": "python",
   "nbconvert_exporter": "python",
   "pygments_lexer": "ipython3",
   "version": "3.10.14"
  }
 },
 "nbformat": 4,
 "nbformat_minor": 2
}
