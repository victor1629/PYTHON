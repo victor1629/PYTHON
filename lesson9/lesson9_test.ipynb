{
 "cells": [
  {
   "cell_type": "markdown",
   "metadata": {},
   "source": [
    "程式區塊-注意位階\n",
    "\n",
    "#####此次未注意縮牌位置卡關很久\n",
    "\n",
    "*****同位階的縮排要在一條線上"
   ]
  },
  {
   "cell_type": "code",
   "execution_count": 19,
   "metadata": {},
   "outputs": [
    {
     "name": "stdout",
     "output_type": "stream",
     "text": [
      "請輸入姓名:victor\n",
      "請輸入身高(cm):175\n",
      "請輸入體重(kg):60\n",
      "victor您好:\n",
      "您的bmi值是19.59\n",
      "您的體重:正常範圍\n"
     ]
    }
   ],
   "source": [
    "import pyinputplus as pyip\n",
    "class BMI ():\n",
    "    def __init__(self,name:str,height:float,weight:float) -> None:\n",
    "       super().__init__()\n",
    "       self.name = name\n",
    "       self.height = height\n",
    "       self.weight = weight\n",
    "\n",
    "    def __repr__(self) -> str:\n",
    "           message = f\"{self.name}您好:\\n\"\n",
    "           message +=f\"您的bmi值是{self.bmi:.2f}\\n\"\n",
    "           message += f\"您的體重:{self.status()}\"\n",
    "           return message \n",
    "\n",
    "    @property\n",
    "    def bmi(self):\n",
    "            return self.weight/(self.height/100)**2\n",
    "          \n",
    "   \n",
    "    def status(self):\n",
    "        if   self.bmi < 18.5:\n",
    "                result=\"過輕\"\n",
    "        elif self.bmi <24:                  \n",
    "                result=\"正常範圍\"\n",
    "        elif self.bmi <27:\n",
    "                result=\"過重\"\n",
    "        elif self.bmi <30:\n",
    "                result=\"輕度肥胖\"\n",
    "        elif self.bmi <35:\n",
    "                result=\"中度肥胖\"\n",
    "        else: \n",
    "            result=\"重度肥胖\"\n",
    "        return result\n",
    "\n",
    "name= input(\"請輸入姓名:\")\n",
    "print(f\"請輸入姓名:{name}\")\n",
    "height= pyip.inputInt(\"請輸入身高(cm):\")\n",
    "print(height)\n",
    "weight= pyip.inputInt(\"請輸入體重(kg):\")\n",
    "print(weight)\n",
    "\n",
    "s1 = BMI(name, height, weight)\n",
    "print(s1)\n",
    "\n",
    "\n"
   ]
  },
  {
   "cell_type": "code",
   "execution_count": 12,
   "metadata": {},
   "outputs": [
    {
     "name": "stdout",
     "output_type": "stream",
     "text": [
      "請輸入姓名:victor\n",
      "請輸入身高(cm):168\n",
      "請輸入體重(kg):60\n",
      "victor您好:\n",
      "您的bmi值是21.26\n",
      "您的體重:正常範圍\n"
     ]
    }
   ],
   "source": [
    "import pyinputplus as pyip\n",
    "\n",
    "class BMI():\n",
    "    def __init__(self, name: str, height: float, weight: float) -> None:\n",
    "        super().__init__()\n",
    "        self.name = name\n",
    "        self.height = height\n",
    "        self.weight = weight\n",
    "\n",
    "    def __repr__(self) -> str:\n",
    "        message = f\"{self.name}您好:\\n\"\n",
    "        message += f\"您的bmi值是{self.bmi:.2f}\\n\"\n",
    "        message += f\"您的體重:{self.status()}\"\n",
    "        return message\n",
    "\n",
    "    @property\n",
    "    def bmi(self):\n",
    "        return self.weight / (self.height / 100) ** 2\n",
    "\n",
    "    def status(self):\n",
    "        if self.bmi < 18.5:\n",
    "            result = \"過輕\"\n",
    "        elif self.bmi < 24:\n",
    "            result = \"正常範圍\"\n",
    "        elif self.bmi < 27:\n",
    "            result = \"過重\"\n",
    "        elif self.bmi < 30:\n",
    "            result = \"輕度肥胖\"\n",
    "        elif self.bmi < 35:\n",
    "            result = \"中度肥胖\"\n",
    "        else:\n",
    "            result = \"重度肥胖\"\n",
    "        return result\n",
    "\n",
    "name = input(\"請輸入姓名:\")\n",
    "print(f\"請輸入姓名:{name}\")\n",
    "height = pyip.inputInt(\"請輸入身高(cm):\")\n",
    "print(height)\n",
    "weight = pyip.inputInt(\"請輸入體重(kg):\")\n",
    "print(weight)\n",
    "\n",
    "s1 = BMI(name, height, weight)\n",
    "print(s1)"
   ]
  },
  {
   "cell_type": "code",
   "execution_count": 10,
   "metadata": {},
   "outputs": [
    {
     "name": "stdout",
     "output_type": "stream",
     "text": [
      "請輸入姓名:may\n",
      "請輸入身高(cm):165\n",
      "請輸入體重(kg):58\n",
      "may您好:\n",
      "您的bmi值是21.30\n",
      "您的體重:正常範圍\n",
      "================\n"
     ]
    }
   ],
   "source": [
    "from dataclasses import dataclass\n",
    "\n",
    "@dataclass\n",
    "class BMI():\n",
    "    name : str\n",
    "    height : float\n",
    "    weight : float\n",
    "    \n",
    "    @property\n",
    "    def bmi(self):\n",
    "        return self.weight / (self.height / 100) ** 2\n",
    "\n",
    "    def status(self):\n",
    "        if self.bmi < 18.5:\n",
    "            result = \"過輕\"\n",
    "        elif self.bmi < 24:\n",
    "            result = \"正常範圍\"\n",
    "        elif self.bmi < 27:\n",
    "            result = \"過重\"\n",
    "        elif self.bmi < 30:\n",
    "            result = \"輕度肥胖\"\n",
    "        elif self.bmi < 35:\n",
    "            result = \"中度肥胖\"\n",
    "        else:\n",
    "            result = \"重度肥胖\"\n",
    "        return result\n",
    "    \n",
    "import pyinputplus as pyip\n",
    "name = input(\"請輸入姓名:\")\n",
    "print(f\"請輸入姓名:{name}\")\n",
    "height = pyip.inputInt(\"請輸入身高(cm):\")\n",
    "print(height)\n",
    "weight = pyip.inputInt(\"請輸入體重(kg):\")\n",
    "print(weight)\n",
    "\n",
    "s1 = BMI(name,height,weight)\n",
    "print(f'{s1.name}您好:')\n",
    "print(f'您的bmi值是{s1.bmi:.2f}')\n",
    "print(f'您的體重:{s1.status()}')\n",
    "print(\"================\")\n",
    "\n",
    "\n"
   ]
  }
 ],
 "metadata": {
  "kernelspec": {
   "display_name": "Python 3",
   "language": "python",
   "name": "python3"
  },
  "language_info": {
   "codemirror_mode": {
    "name": "ipython",
    "version": 3
   },
   "file_extension": ".py",
   "mimetype": "text/x-python",
   "name": "python",
   "nbconvert_exporter": "python",
   "pygments_lexer": "ipython3",
   "version": "3.10.14"
  }
 },
 "nbformat": 4,
 "nbformat_minor": 2
}
