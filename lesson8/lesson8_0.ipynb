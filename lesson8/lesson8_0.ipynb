{
 "cells": [
  {
   "cell_type": "code",
   "execution_count": 1,
   "metadata": {},
   "outputs": [
    {
     "name": "stdout",
     "output_type": "stream",
     "text": [
      "請輸入整數,求所有因數:50\n",
      "50的因數是:\n",
      "1 2 5 10 25 50 "
     ]
    }
   ],
   "source": [
    "import pyinputplus as pyip\n",
    "\n",
    "n = pyip.inputInt(\"請輸入整數,求所有因數:\", min=0)\n",
    "print(n)\n",
    "print(f\"{n}的因數是:\")\n",
    "for i in range(1,n+1):\n",
    "    if n % i == 0: \n",
    "        print(i,end=' ')"
   ]
  },
  {
   "cell_type": "code",
   "execution_count": 3,
   "metadata": {},
   "outputs": [
    {
     "data": {
      "text/plain": [
       "2"
      ]
     },
     "execution_count": 3,
     "metadata": {},
     "output_type": "execute_result"
    }
   ],
   "source": [
    "import random\n",
    "\n",
    "min = 1 \n",
    "max = 100\n",
    "target =random.randint(min,max)\n",
    "target"
   ]
  },
  {
   "cell_type": "code",
   "execution_count": 4,
   "metadata": {},
   "outputs": [
    {
     "data": {
      "text/plain": [
       "45"
      ]
     },
     "execution_count": 4,
     "metadata": {},
     "output_type": "execute_result"
    }
   ],
   "source": [
    "import random\n",
    "\n",
    "n=random.randint(1,100)\n",
    "n"
   ]
  },
  {
   "cell_type": "code",
   "execution_count": 15,
   "metadata": {},
   "outputs": [
    {
     "name": "stdout",
     "output_type": "stream",
     "text": [
      "22\n",
      "=========猜數字遊戲============\n",
      "\n",
      "猜數字的範圍1~100:13\n",
      "再大一點\n",
      "你已猜了1\n",
      "猜數字的範圍14~100:20\n",
      "再大一點\n",
      "你已猜了2\n",
      "猜數字的範圍21~100:21\n",
      "再大一點\n",
      "你已猜了3\n",
      "猜數字的範圍22~100:22\n",
      "賓果!猜對了,答案是22\n",
      "你共猜了4 次\n",
      "遊戲結束\n"
     ]
    }
   ],
   "source": [
    "#練習\n",
    "import random\n",
    "import pyinputplus as pyip\n",
    "\n",
    "min = 1 \n",
    "max = 100\n",
    "count = 0\n",
    "target =random.randint(min,max)\n",
    "print(target)\n",
    "print(\"=========猜數字遊戲============\\n\")\n",
    "while True:\n",
    "    count += 1\n",
    "    keyin=pyip.inputInt(f\"猜數字的範圍{min}~{max}:\")\n",
    "    print(keyin)\n",
    "    if keyin==target:\n",
    "        print(f'賓果!猜對了,答案是{target}')\n",
    "        print(f'你共猜了{count} 次')\n",
    "        break\n",
    "    elif(keyin > target):\n",
    "        print('再小一點')\n",
    "        max= keyin-1\n",
    "    elif(keyin < target):\n",
    "        print('再大一點')\n",
    "        min =keyin +1\n",
    "    print(f'你已猜了{count}'次)\n",
    "print('遊戲結束')\n",
    "\n",
    "\n",
    "    \n",
    "\n"
   ]
  },
  {
   "cell_type": "code",
   "execution_count": 14,
   "metadata": {},
   "outputs": [
    {
     "name": "stdout",
     "output_type": "stream",
     "text": [
      "=========猜數字遊戲============\n",
      "\n",
      "猜數字的範圍1~100:100\n",
      "再小一點\n",
      "您已經猜了1次\n",
      "猜數字的範圍1~99:50\n",
      "再小一點\n",
      "您已經猜了2次\n",
      "猜數字的範圍1~49:34\n",
      "再小一點\n",
      "您已經猜了3次\n",
      "猜數字的範圍1~33:23\n",
      "再大一點\n",
      "您已經猜了4次\n",
      "猜數字的範圍24~33:29\n",
      "再小一點\n",
      "您已經猜了5次\n",
      "猜數字的範圍24~28:30\n",
      "再小一點\n",
      "您已經猜了6次\n",
      "猜數字的範圍24~29:26\n",
      "賓果!猜對了, 答案是:26\n",
      "您總共猜了7次\n",
      "遊戲結束\n"
     ]
    }
   ],
   "source": [
    "import random\n",
    "import pyinputplus as pyip\n",
    "\n",
    "min = 1\n",
    "max = 100\n",
    "count = 0\n",
    "target = random.randint(min,max)\n",
    "print(target)\n",
    "print(\"=========猜數字遊戲============\\n\")\n",
    "while True:\n",
    "    count += 1\n",
    "    keyin = pyip.inputInt(f\"猜數字的範圍{min}~{max}:\")\n",
    "    print(keyin)\n",
    "    if keyin == target:\n",
    "        print(f\"賓果!猜對了, 答案是:{target}\")\n",
    "        print(f\"您總共猜了{count}次\")\n",
    "        break\n",
    "    elif(keyin > target):        \n",
    "        print(\"再小一點\")\n",
    "        max = keyin-1        \n",
    "    elif(keyin < target):\n",
    "        print(\"再大一點\")\n",
    "        min = keyin + 1\n",
    "    print(f'您已經猜了{count}次')\n",
    "\n",
    "print(\"遊戲結束\")"
   ]
  },
  {
   "cell_type": "code",
   "execution_count": 1,
   "metadata": {},
   "outputs": [
    {
     "name": "stdout",
     "output_type": "stream",
     "text": [
      "56\n",
      "=========猜數字遊戲============\n",
      "\n",
      "猜數字的範圍1~100:"
     ]
    },
    {
     "name": "stdout",
     "output_type": "stream",
     "text": [
      "Blank values are not allowed.\n",
      "猜數字的範圍1~100:56\n",
      "賓果!猜對了, 答案是:56\n",
      "您總共猜了1次\n",
      "還要繼續嗎?(y,n)'100' is not a valid yes/no response.\n",
      "還要繼續嗎?(y,n)'60' is not a valid yes/no response.\n",
      "還要繼續嗎?(y,n)"
     ]
    }
   ],
   "source": [
    "#老師\n",
    "import random\n",
    "import pyinputplus as pyip\n",
    "\n",
    "while True:\n",
    "    min = 1\n",
    "    max = 100\n",
    "    count = 0\n",
    "    target = random.randint(min,max)\n",
    "    print(target)\n",
    "    print(\"=========猜數字遊戲============\\n\")\n",
    "    while True:\n",
    "        count += 1\n",
    "        keyin = pyip.inputInt(f\"猜數字的範圍{min}~{max}:\")\n",
    "        print(keyin)\n",
    "        if keyin == target:\n",
    "            print(f\"賓果!猜對了, 答案是:{target}\")\n",
    "            print(f\"您總共猜了{count}次\")\n",
    "            break\n",
    "        elif(keyin > target):        \n",
    "            print(\"再小一點\")\n",
    "            max = keyin-1        \n",
    "        elif(keyin < target):\n",
    "            print(\"再大一點\")\n",
    "            min = keyin + 1\n",
    "        print(f'您已經猜了{count}次')\n",
    "    play_again = pyip.inputYesNo(\"還要繼續嗎?(y,n)\")\n",
    "    if play_again == 'no':\n",
    "        break"
   ]
  },
  {
   "cell_type": "code",
   "execution_count": 3,
   "metadata": {},
   "outputs": [
    {
     "name": "stdout",
     "output_type": "stream",
     "text": [
      "23\n",
      "=========猜數字遊戲============\n",
      "\n",
      "猜數字的範圍1~100:80\n",
      "再小一點\n",
      "您已經猜了1次\n",
      "猜數字的範圍1~79:23\n",
      "賓果!猜對了, 答案是:23\n",
      "您總共猜了2次\n",
      "還要繼續嗎?(y,n)26\n",
      "=========猜數字遊戲============\n",
      "\n",
      "猜數字的範圍1~100:"
     ]
    }
   ],
   "source": [
    "#練習\n",
    "import random\n",
    "import pyinputplus as pyip\n",
    "\n",
    "def play_game()->None:\n",
    "    min = 1\n",
    "    max = 100\n",
    "    count = 0\n",
    "    target = random.randint(min,max)\n",
    "    print(target)\n",
    "    print(\"=========猜數字遊戲============\\n\")\n",
    "    while True:\n",
    "        count += 1\n",
    "        keyin = pyip.inputInt(f\"猜數字的範圍{min}~{max}:\")\n",
    "        print(keyin)\n",
    "        if keyin == target:\n",
    "            print(f\"賓果!猜對了, 答案是:{target}\")\n",
    "            print(f\"您總共猜了{count}次\")\n",
    "            break\n",
    "        elif(keyin > target):        \n",
    "            print(\"再小一點\")\n",
    "            max = keyin-1        \n",
    "        elif(keyin < target):\n",
    "            print(\"再大一點\")\n",
    "            min = keyin + 1\n",
    "        print(f'您已經猜了{count}次')\n",
    "while True:\n",
    "    play_game()\n",
    "    play_again = pyip.inputYesNo(\"還要繼續嗎?(y,n)\")\n",
    "    if play_game == 'no':\n",
    "        break    \n",
    "print(\"遊戲結束\")\n",
    "\n",
    "\n",
    "\n"
   ]
  },
  {
   "cell_type": "code",
   "execution_count": 2,
   "metadata": {},
   "outputs": [
    {
     "name": "stdout",
     "output_type": "stream",
     "text": [
      "7\n",
      "=========猜數字遊戲============\n",
      "\n",
      "猜數字的範圍1~100:46\n",
      "再小一點\n",
      "您已經猜了1次\n",
      "猜數字的範圍1~45:7\n",
      "賓果!猜對了, 答案是:7\n",
      "您總共猜了2次\n",
      "還要繼續嗎?(y,n)'80' is not a valid yes/no response.\n",
      "還要繼續嗎?(y,n)遊戲結束\n"
     ]
    }
   ],
   "source": [
    "#練習\n",
    "import random\n",
    "import pyinputplus as pyip\n",
    "\n",
    "def play_game()->None:\n",
    "    min = 1\n",
    "    max = 100\n",
    "    count = 0\n",
    "    target = random.randint(min,max)\n",
    "    print(target)\n",
    "    print(\"=========猜數字遊戲============\\n\")\n",
    "    while True:\n",
    "        count += 1\n",
    "        keyin = pyip.inputInt(f\"猜數字的範圍{min}~{max}:\")\n",
    "        print(keyin)\n",
    "        if keyin == target:\n",
    "            print(f\"賓果!猜對了, 答案是:{target}\")\n",
    "            print(f\"您總共猜了{count}次\")\n",
    "            break\n",
    "        elif(keyin > target):        \n",
    "            print(\"再小一點\")\n",
    "            max = keyin-1        \n",
    "        elif(keyin < target):\n",
    "            print(\"再大一點\")\n",
    "            min = keyin + 1\n",
    "        print(f'您已經猜了{count}次')\n",
    "while True:\n",
    "    play_game()   \n",
    "    play_again = pyip.inputYesNo(\"還要繼續嗎?(y,n)\")\n",
    "\n",
    "    if play_again == 'no':\n",
    "        break\n",
    "print(\"遊戲結束\")"
   ]
  }
 ],
 "metadata": {
  "kernelspec": {
   "display_name": "Python 3",
   "language": "python",
   "name": "python3"
  },
  "language_info": {
   "codemirror_mode": {
    "name": "ipython",
    "version": 3
   },
   "file_extension": ".py",
   "mimetype": "text/x-python",
   "name": "python",
   "nbconvert_exporter": "python",
   "pygments_lexer": "ipython3",
   "version": "3.10.14"
  }
 },
 "nbformat": 4,
 "nbformat_minor": 2
}
