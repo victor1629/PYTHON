{
 "cells": [
  {
   "cell_type": "code",
   "execution_count": 1,
   "metadata": {},
   "outputs": [
    {
     "ename": "SyntaxError",
     "evalue": "invalid syntax (1972071113.py, line 10)",
     "output_type": "error",
     "traceback": [
      "\u001b[0;36m  Cell \u001b[0;32mIn[1], line 10\u001b[0;36m\u001b[0m\n\u001b[0;31m    def bmi(bmi <18.5:\"體重過輕\", bmi <24:\"正常範圍\", bmi <27:\"過重\", bmi <30:\"輕度肥胖\", bmi <35:\"中度肥胖\",bmi >=35:\"重度肥胖\")\u001b[0m\n\u001b[0m                ^\u001b[0m\n\u001b[0;31mSyntaxError\u001b[0m\u001b[0;31m:\u001b[0m invalid syntax\n"
     ]
    }
   ],
   "source": [
    "import pyinputplus as pyip\n",
    "name = input('請輸入姓名:')\n",
    "height = pyip.inputFloat('請輸入身高(120~230)(cm):',min=120,max=230)\n",
    "print(f'您的身高{height}')\n",
    "weight = pyip.inputFloat('請輸入體重(40~170)(kg):',min=40,max=170)\n",
    "print(f'您的體重{weight}')\n",
    "bmi = weight / (height / 100) ** 2\n",
    "print(f'{name}, 您的BMI: {round(bmi,ndigits=2)}')   \n",
    "\n",
    "if bmi <18.5:\n",
    "         print(\"體重過輕\")\n",
    "    elif bmi <24:\n",
    "         print(\"正常範圍\")\n",
    "    elif bmi <27:\n",
    "         print(\"過重\")\n",
    "    elif bmi <30:\n",
    "         print(\"輕度肥胖\")\n",
    "    elif bmi <35:\n",
    "        print(\"中度肥胖\")\n",
    "    else: \n",
    "        bmi >=35\n",
    "        print(\"重度肥胖\")\n",
    "\n"
   ]
  }
 ],
 "metadata": {
  "kernelspec": {
   "display_name": "Python 3",
   "language": "python",
   "name": "python3"
  },
  "language_info": {
   "codemirror_mode": {
    "name": "ipython",
    "version": 3
   },
   "file_extension": ".py",
   "mimetype": "text/x-python",
   "name": "python",
   "nbconvert_exporter": "python",
   "pygments_lexer": "ipython3",
   "version": "3.10.14"
  }
 },
 "nbformat": 4,
 "nbformat_minor": 2
}
