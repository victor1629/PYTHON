{
 "cells": [
  {
   "cell_type": "markdown",
   "metadata": {},
   "source": [
    "輸入:\n",
    "請輸入姓名:xxxx\n",
    "請輸入身高(cm):\n",
    "請輸入體重(kg):\n",
    "\n",
    "請使用自訂的function\n",
    "建立bmi的function,會傳出bmi\n",
    "建立get_status,會傳出字串\n",
    "可以使用pypi\n",
    "\n",
    "輸出:\n",
    "xxxx,您的BMI:25.52\n",
    "xxxx,您的體重過重"
   ]
  },
  {
   "cell_type": "code",
   "execution_count": 18,
   "metadata": {},
   "outputs": [
    {
     "name": "stdout",
     "output_type": "stream",
     "text": [
      "請輸入身高(120~230)(cm):您的身高173.5\n",
      "請輸入體重(40~170)(kg):您的體重69.5\n",
      "victor, 您的BMI:23.09\n",
      "victor, 您的體重:正常範圍\n"
     ]
    }
   ],
   "source": [
    "#練習\n",
    "def calc_bmi(height:float,weight:float)->float:\n",
    "        return weight / (height / 100) ** 2\n",
    "def get_status (bmi:float)->str:\n",
    "          if   bmi < 18.5:\n",
    "               result=\"過輕\"\n",
    "          elif bmi <24:                  \n",
    "               result=\"正常範圍\"\n",
    "          elif bmi <27:\n",
    "               result=\"過重\"\n",
    "          elif bmi <30:\n",
    "               result=\"輕度肥胖\"\n",
    "          elif bmi <35:\n",
    "               result=\"中度肥胖\"\n",
    "          else: \n",
    "               bmi >=35\n",
    "               result=\"重度肥胖\"\n",
    "          return result\n",
    "import pyinputplus as pyip              \n",
    "   \n",
    "name = input('請輸入姓名:')\n",
    "height = pyip.inputFloat('請輸入身高(120~230)(cm):',min=120,max=230)\n",
    "print(f'您的身高{height}')\n",
    "weight = pyip.inputFloat('請輸入體重(40~170)(kg):',min=40,max=170)\n",
    "print(f'您的體重{weight}')\n",
    "\n",
    "bmi:float=calc_bmi(height,weight)\n",
    "status:str=get_status(bmi)\n",
    "\n",
    "print(f'{name}, 您的BMI:{bmi:.2f}')\n",
    "print(f'{name}, 您的體重:{status}')\n"
   ]
  },
  {
   "cell_type": "code",
   "execution_count": 43,
   "metadata": {},
   "outputs": [
    {
     "data": {
      "text/plain": [
       "15"
      ]
     },
     "execution_count": 43,
     "metadata": {},
     "output_type": "execute_result"
    }
   ],
   "source": [
    "def c (a,b):\n",
    "    return a+b\n",
    "c(10,5)\n",
    "\n"
   ]
  },
  {
   "cell_type": "code",
   "execution_count": 44,
   "metadata": {},
   "outputs": [
    {
     "data": {
      "text/plain": [
       "6.0"
      ]
     },
     "execution_count": 44,
     "metadata": {},
     "output_type": "execute_result"
    }
   ],
   "source": [
    "def c (a,b):\n",
    "    return a/b\n",
    "c(30,5)"
   ]
  },
  {
   "cell_type": "code",
   "execution_count": 21,
   "metadata": {},
   "outputs": [
    {
     "name": "stdout",
     "output_type": "stream",
     "text": [
      "Name：Alice\n",
      "Alice\n",
      "Name：Alice\n",
      "姓名：Alice\n"
     ]
    }
   ],
   "source": [
    "class Student():\n",
    "\n",
    "    def __init__(self, name,):\n",
    "        self.name = name\n",
    "\n",
    "    def __str__(self):\n",
    "        return \"Name：\" + self.name\n",
    "\n",
    "    def __repr__(self):\n",
    "        return \"姓名：\" + self.name\n",
    "\n",
    "\n",
    "class_one = Student(\"Alice\")\n",
    "print(class_one)\n",
    "print(class_one.name)\n",
    "print(str(class_one))\n",
    "print(repr(class_one))\n",
    "\n",
    "\n"
   ]
  }
 ],
 "metadata": {
  "kernelspec": {
   "display_name": "Python 3",
   "language": "python",
   "name": "python3"
  },
  "language_info": {
   "codemirror_mode": {
    "name": "ipython",
    "version": 3
   },
   "file_extension": ".py",
   "mimetype": "text/x-python",
   "name": "python",
   "nbconvert_exporter": "python",
   "pygments_lexer": "ipython3",
   "version": "3.10.14"
  }
 },
 "nbformat": 4,
 "nbformat_minor": 2
}
