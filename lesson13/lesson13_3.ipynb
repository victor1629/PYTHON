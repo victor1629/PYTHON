{
 "cells": [
  {
   "cell_type": "code",
   "execution_count": null,
   "metadata": {},
   "outputs": [],
   "source": [
    "'''\n",
    "字元\n",
    "\\d -> (0|1|2|3|4|5|6|7|8|9)\n",
    "\\d -> 0-9\n",
    "\\D -> 不是0-9\n",
    "\\w -> 任何字元,數字,和底線\n",
    "\\W -> 不是(任何字元,數字,和底線)\n",
    "\\s -> 任何空白,tab或者newline\n",
    "\\S -> 不是(任何空白,tab或者newline)\n",
    "[0-5] -> 0-5任一個\n",
    "[0-9] -> 0-9任一個\n",
    "[a-z] -> a-z任一個\n",
    "[a-zA-Z] -> a-z,A-Z任一個\n",
    "'''"
   ]
  },
  {
   "cell_type": "code",
   "execution_count": 2,
   "metadata": {},
   "outputs": [
    {
     "data": {
      "text/plain": [
       "'2024-05-29'"
      ]
     },
     "execution_count": 2,
     "metadata": {},
     "output_type": "execute_result"
    }
   ],
   "source": [
    "import re\n",
    "test_string = \"2024-05-29\"\n",
    "pattern = re.compile(r'\\d{4}-\\d{2}-\\d{2}')\n",
    "match1 = pattern.match(test_string)\n",
    "match1.group()"
   ]
  },
  {
   "cell_type": "code",
   "execution_count": 3,
   "metadata": {},
   "outputs": [
    {
     "data": {
      "text/plain": [
       "'\\n有效日期:2024-05-29\\n無效日期:2024-13-01\\n'"
      ]
     },
     "execution_count": 3,
     "metadata": {},
     "output_type": "execute_result"
    }
   ],
   "source": [
    "'''\n",
    "有效日期:2024-05-29\n",
    "無效日期:2024-13-01\n",
    "'''"
   ]
  }
 ],
 "metadata": {
  "kernelspec": {
   "display_name": "Python 3",
   "language": "python",
   "name": "python3"
  },
  "language_info": {
   "codemirror_mode": {
    "name": "ipython",
    "version": 3
   },
   "file_extension": ".py",
   "mimetype": "text/x-python",
   "name": "python",
   "nbconvert_exporter": "python",
   "pygments_lexer": "ipython3",
   "version": "3.10.14"
  }
 },
 "nbformat": 4,
 "nbformat_minor": 2
}
