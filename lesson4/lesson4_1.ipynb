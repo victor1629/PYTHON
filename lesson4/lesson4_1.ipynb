{
 "cells": [
  {
   "cell_type": "code",
   "execution_count": 4,
   "metadata": {},
   "outputs": [
    {
     "name": "stdout",
     "output_type": "stream",
     "text": [
      "3\n",
      "3.1\n",
      "3.14\n"
     ]
    }
   ],
   "source": [
    "print(round(3.14159))\n",
    "print(round(3.14159,ndigits=1))\n",
    "print(round(3.14159,ndigits=2))"
   ]
  },
  {
   "cell_type": "code",
   "execution_count": 6,
   "metadata": {},
   "outputs": [
    {
     "name": "stdout",
     "output_type": "stream",
     "text": [
      "4\n"
     ]
    }
   ],
   "source": [
    "import math\n",
    "print (math.ceil(3.14159))"
   ]
  },
  {
   "cell_type": "code",
   "execution_count": 8,
   "metadata": {},
   "outputs": [
    {
     "name": "stdout",
     "output_type": "stream",
     "text": [
      "3\n"
     ]
    }
   ],
   "source": [
    "print (math.floor(3.14159))"
   ]
  },
  {
   "cell_type": "code",
   "execution_count": 9,
   "metadata": {},
   "outputs": [
    {
     "name": "stdout",
     "output_type": "stream",
     "text": [
      "10\n"
     ]
    }
   ],
   "source": [
    "n = 10\n",
    "n * 5\n",
    "print(n)"
   ]
  },
  {
   "cell_type": "code",
   "execution_count": 11,
   "metadata": {},
   "outputs": [
    {
     "name": "stdout",
     "output_type": "stream",
     "text": [
      "50\n"
     ]
    }
   ],
   "source": [
    "n = 10\n",
    "n = n * 5\n",
    "print(n)"
   ]
  },
  {
   "cell_type": "markdown",
   "metadata": {},
   "source": [
    "複合指定運算子"
   ]
  },
  {
   "cell_type": "code",
   "execution_count": 15,
   "metadata": {},
   "outputs": [
    {
     "name": "stdout",
     "output_type": "stream",
     "text": [
      "50\n",
      "55\n",
      "35\n"
     ]
    }
   ],
   "source": [
    "n = 10\n",
    "n *= 5\n",
    "print(n)\n",
    "n += 5\n",
    "print(n)\n",
    "n -= 20\n",
    "print(n)"
   ]
  },
  {
   "cell_type": "markdown",
   "metadata": {},
   "source": [
    "請使用者輸入一個任意數，程式會顯示此數的平方值及立方值"
   ]
  },
  {
   "cell_type": "code",
   "execution_count": 18,
   "metadata": {},
   "outputs": [
    {
     "name": "stdout",
     "output_type": "stream",
     "text": [
      "您輸入的數值是10,平方值是100\n",
      "您輸入的數值是10,立方值是1000\n"
     ]
    }
   ],
   "source": [
    "source_value = eval(input(\"請輸入任意數:\"))\n",
    "value = source_value\n",
    "value **= 2\n",
    "print(f\"您輸入的數值是{source_value},平方值是{value}\")\n",
    "value = source_value\n",
    "value **= 3\n",
    "print(f\"您輸入的數值是{source_value},立方值是{value}\")"
   ]
  },
  {
   "cell_type": "code",
   "execution_count": 23,
   "metadata": {},
   "outputs": [
    {
     "name": "stdout",
     "output_type": "stream",
     "text": [
      "您輸入的數值是10,平方值是100\n",
      "您輸入的數值是10,平方值是1000\n"
     ]
    }
   ],
   "source": [
    "value = eval(input(\"請輸入任意數:\"))\n",
    "\n",
    "print(f\"您輸入的數值是{value},平方值是{value ** 2}\")\n",
    "print(f\"您輸入的數值是{value},平方值是{value ** 3}\")"
   ]
  },
  {
   "cell_type": "code",
   "execution_count": 17,
   "metadata": {},
   "outputs": [
    {
     "name": "stdout",
     "output_type": "stream",
     "text": [
      "您輸入的數值是10,平方值是100\n",
      "您輸入的數值是10,立方值是1000\n"
     ]
    }
   ],
   "source": [
    "value = eval(input(\"請輸入任意數:\"))\n",
    "\n",
    "print(f\"您輸入的數值是{value},平方值是{value ** 2}\")\n",
    "\n",
    "print(f\"您輸入的數值是{value},立方值是{value ** 3}\")"
   ]
  },
  {
   "cell_type": "markdown",
   "metadata": {},
   "source": [
    "請設計程式,讓用者輸入三個任意數，程式會顯示3數相加的總和(float)"
   ]
  },
  {
   "cell_type": "code",
   "execution_count": 32,
   "metadata": {},
   "outputs": [
    {
     "name": "stdout",
     "output_type": "stream",
     "text": [
      "20.123 + 10.222 + 10.555 = 40.9\n",
      "20.123 + 10.222 + 10.555 = 40.9\n"
     ]
    }
   ],
   "source": [
    "n1 = eval(input(\"請輸入第一個數:\"))\n",
    "n2 = eval(input(\"請輸入第二個數:\"))\n",
    "n3 = eval(input(\"請輸入第三個數:\"))\n",
    "total = n1 + n2 + n3\n",
    "print(f'{n1} + {n2} + {n3} = {round(total,ndigits=2)}')\n",
    "print(f\"{n1} + {n2} + {n3} = {round(total,ndigits=3)}\")"
   ]
  },
  {
   "cell_type": "markdown",
   "metadata": {},
   "source": [
    "請以(複合指定運算子)設計程式,讓用者輸入三個任意數，程式會顯示3數相加的總和(float)"
   ]
  },
  {
   "cell_type": "code",
   "execution_count": 25,
   "metadata": {},
   "outputs": [
    {
     "name": "stdout",
     "output_type": "stream",
     "text": [
      "第一個數=15\n",
      "第二個數=30\n",
      "第三個數=45\n",
      "總合是90\n"
     ]
    }
   ],
   "source": [
    "total = 0\n",
    "n = eval(input(\"請輸入第一個數:\"))\n",
    "total += n\n",
    "print(f\"第一個數={n}\")\n",
    "\n",
    "n = eval(input(\"請輸入第二個數:\"))\n",
    "total += n\n",
    "print(f\"第二個數={n}\")\n",
    "\n",
    "n = eval(input(\"請輸入第三個數:\"))\n",
    "total += n\n",
    "print(f\"第三個數={n}\")\n",
    "\n",
    "print(f'總合是{round(total,ndigits=2)}')"
   ]
  },
  {
   "cell_type": "markdown",
   "metadata": {},
   "source": [
    "讓使用者輸入直角三角形的對邊\n",
    "\n",
    "\n",
    "讓使用者輸入直角三角形的斜邊\n",
    "\n",
    "\n",
    "計算角度\n",
    "\n",
    "\n",
    "公式:\n",
    "\n",
    "\n",
    "sin(x) = 對邊 / 斜邊\n",
    "\n",
    "\n",
    "x是radian(弧度)"
   ]
  },
  {
   "cell_type": "code",
   "execution_count": null,
   "metadata": {},
   "outputs": [],
   "source": [
    "import math\n",
    "side = eval(input(\"請輸入對邊:\"))\n",
    "ano_side = eval(input(\"請輸入斜邊:\"))\n",
    "\n",
    "radian = math.asin(side / ano_side)\n",
    "degree = round(math.degrees(radian),ndigits=2)\n",
    "\n",
    "print(f\"角度為{degree}\")"
   ]
  },
  {
   "cell_type": "code",
   "execution_count": 33,
   "metadata": {},
   "outputs": [
    {
     "name": "stdout",
     "output_type": "stream",
     "text": [
      "角度為41.81\n"
     ]
    }
   ],
   "source": [
    "import math\n",
    "side = eval(input(\"請輸入直角三角形的對邊\"))\n",
    "ano_side = eval(input(\"請輸入斜邊:\"))\n",
    "\n",
    "#--------------------------------\n",
    "radian = math.asin(side / ano_side)\n",
    "degree = round(math.degrees(radian),ndigits=2)\n",
    "\n",
    "print(f\"角度為{degree}\")\n"
   ]
  },
  {
   "cell_type": "code",
   "execution_count": 1,
   "metadata": {},
   "outputs": [
    {
     "name": "stdout",
     "output_type": "stream",
     "text": [
      "梯形的上底20公分,下底30公分,高15公分\n",
      "梯形的面積:375.0平方公分\n"
     ]
    }
   ],
   "source": [
    "upper = eval(input(\"請輸入梯形的上底(公分):\"))\n",
    "bottom = eval(input(\"請輸入梯形的下底(公分):\"))\n",
    "hieght = eval(input(\"請輸入梯形的高(公分):\"))\n",
    "area = ((upper+bottom) * hieght) / 2\n",
    "print(f\"梯形的上底{upper}公分,下底{bottom}公分,高{hieght}公分\")\n",
    "print(f\"梯形的面積:{area}平方公分\")\n"
   ]
  }
 ],
 "metadata": {
  "kernelspec": {
   "display_name": "Python 3",
   "language": "python",
   "name": "python3"
  },
  "language_info": {
   "codemirror_mode": {
    "name": "ipython",
    "version": 3
   },
   "file_extension": ".py",
   "mimetype": "text/x-python",
   "name": "python",
   "nbconvert_exporter": "python",
   "pygments_lexer": "ipython3",
   "version": "3.10.14"
  }
 },
 "nbformat": 4,
 "nbformat_minor": 2
}
