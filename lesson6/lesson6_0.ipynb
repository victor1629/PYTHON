{
 "cells": [
  {
   "cell_type": "code",
   "execution_count": 7,
   "metadata": {},
   "outputs": [
    {
     "name": "stdout",
     "output_type": "stream",
     "text": [
      "MAY,您的BMI:22.49\n"
     ]
    }
   ],
   "source": [
    "name = input('請輸入姓名:')\n",
    "height = float(input('請輸入身高(cm):'))\n",
    "weight = float(input('請輸入體重(kg):'))\n",
    "bmi = weight / (height / 100) ** 2\n",
    "print(f\"{name},您的BMI:{round(bmi,ndigits=2)}\")"
   ]
  },
  {
   "cell_type": "code",
   "execution_count": 13,
   "metadata": {},
   "outputs": [
    {
     "name": "stdout",
     "output_type": "stream",
     "text": [
      "格式錯誤could not convert string to float: '14q'\n"
     ]
    }
   ],
   "source": [
    "try:\n",
    "    name = input('請輸入姓名:')\n",
    "    height = float(input('請輸入身高(cm):'))\n",
    "    weight = float(input('請輸入體重(kg):'))\n",
    "    bmi = weight / (height / 100) ** 2\n",
    "    print(f\"{name},您的BMI:{round(bmi,ndigits=2)}\")\n",
    "except Exception as a:\n",
    "    print(f\"格式錯誤{a}\")"
   ]
  },
  {
   "cell_type": "code",
   "execution_count": 12,
   "metadata": {},
   "outputs": [
    {
     "name": "stdout",
     "output_type": "stream",
     "text": [
      "身高正常\n",
      "may, 您的BMI: 22.04\n"
     ]
    }
   ],
   "source": [
    "try:\n",
    "    name = input('請輸入姓名:')\n",
    "    height = float(input('請輸入身高(cm):')) \n",
    "    if height >= 120:\n",
    "         if height <= 230:\n",
    "             print(\"身高正常\")\n",
    "    weight = eval(input('請輸入體重(kg):'))\n",
    "    bmi = weight / (height / 100) ** 2\n",
    "    print(f'{name}, 您的BMI: {round(bmi,ndigits=2)}')\n",
    "except ValueError as e:\n",
    "    print(f'格式錯誤: {e}')\n",
    "except SyntaxError as e:\n",
    "    print(f'語法錯誤:體重錯誤')"
   ]
  },
  {
   "cell_type": "code",
   "execution_count": 14,
   "metadata": {},
   "outputs": [
    {
     "name": "stdout",
     "output_type": "stream",
     "text": [
      "身高正常\n",
      "may, 您的BMI: 18.49\n"
     ]
    }
   ],
   "source": [
    "try:\n",
    "    name = input('請輸入姓名:')\n",
    "    height = float(input('請輸入身高(cm):')) \n",
    "    if height >=120:\n",
    "        if height <=230:\n",
    "            print(\"身高正常\")\n",
    "    weight = eval(input('請輸入體重(kg):'))\n",
    "    bmi = weight / (height / 100) ** 2\n",
    "    print(f'{name}, 您的BMI: {round(bmi,ndigits=2)}')\n",
    "except ValueError as e:\n",
    "    print(f'格式錯誤: {e}')\n",
    "except SyntaxError as e:\n",
    "    print(f'語法錯誤:體重錯誤')"
   ]
  },
  {
   "cell_type": "code",
   "execution_count": 15,
   "metadata": {},
   "outputs": [
    {
     "ename": "ValueError",
     "evalue": "could not convert string to float: '12A'",
     "output_type": "error",
     "traceback": [
      "\u001b[0;31m---------------------------------------------------------------------------\u001b[0m",
      "\u001b[0;31mValueError\u001b[0m                                Traceback (most recent call last)",
      "Cell \u001b[0;32mIn[15], line 1\u001b[0m\n\u001b[0;32m----> 1\u001b[0m height \u001b[38;5;241m=\u001b[39m \u001b[38;5;28;43mfloat\u001b[39;49m\u001b[43m(\u001b[49m\u001b[38;5;28;43minput\u001b[39;49m\u001b[43m(\u001b[49m\u001b[38;5;124;43m'\u001b[39;49m\u001b[38;5;124;43m請輸入身高(120~230)(cm):\u001b[39;49m\u001b[38;5;124;43m'\u001b[39;49m\u001b[43m)\u001b[49m\u001b[43m)\u001b[49m\n",
      "\u001b[0;31mValueError\u001b[0m: could not convert string to float: '12A'"
     ]
    }
   ],
   "source": [
    "height = float(input('請輸入身高(120~230)(cm):'))"
   ]
  },
  {
   "cell_type": "code",
   "execution_count": 16,
   "metadata": {},
   "outputs": [
    {
     "data": {
      "text/plain": [
       "True"
      ]
     },
     "execution_count": 16,
     "metadata": {},
     "output_type": "execute_result"
    }
   ],
   "source": [
    "not True\n",
    "not False"
   ]
  },
  {
   "cell_type": "code",
   "execution_count": 17,
   "metadata": {},
   "outputs": [
    {
     "name": "stdout",
     "output_type": "stream",
     "text": [
      "身高正常\n"
     ]
    }
   ],
   "source": [
    "height = float(input('請輸入身高(cm):')) \n",
    "if height>=120:\n",
    "    if height<=230:\n",
    "        print(\"身高正常\")"
   ]
  },
  {
   "cell_type": "code",
   "execution_count": 18,
   "metadata": {},
   "outputs": [
    {
     "name": "stdout",
     "output_type": "stream",
     "text": [
      "身高正常\n"
     ]
    }
   ],
   "source": [
    "height = float(input('請輸入身高(cm):')) \n",
    "if height>=120 and height<=230: \n",
    "    print(\"身高正常\")"
   ]
  },
  {
   "cell_type": "code",
   "execution_count": 19,
   "metadata": {},
   "outputs": [
    {
     "name": "stdout",
     "output_type": "stream",
     "text": [
      "身高不正常\n"
     ]
    }
   ],
   "source": [
    "height = float(input('請輸入身高(cm):')) \n",
    "if height<120 or height>230:\n",
    "    print(\"身高不正常\")"
   ]
  },
  {
   "cell_type": "code",
   "execution_count": 20,
   "metadata": {},
   "outputs": [
    {
     "name": "stdout",
     "output_type": "stream",
     "text": [
      "身高正常\n",
      "may, 您的BMI: 11.05\n"
     ]
    }
   ],
   "source": [
    "try:\n",
    "    name = input('請輸入姓名:')\n",
    "    height = float(input('請輸入身高(cm):')) \n",
    "    if height >=120 and height <=230:\n",
    "        print(\"身高正常\")\n",
    "    weight = eval(input('請輸入體重(kg):'))\n",
    "    bmi = weight / (height / 100) ** 2\n",
    "    print(f'{name}, 您的BMI: {round(bmi,ndigits=2)}')\n",
    "except ValueError as e:\n",
    "    print(f'格式錯誤: {e}')\n",
    "except SyntaxError as e:\n",
    "    print(f'語法錯誤:體重錯誤')"
   ]
  },
  {
   "cell_type": "code",
   "execution_count": 27,
   "metadata": {},
   "outputs": [
    {
     "name": "stdout",
     "output_type": "stream",
     "text": [
      "身高必需大於120同時小於230\n"
     ]
    }
   ],
   "source": [
    "try:\n",
    "    height = float(input('請輸入身高(cm):')) \n",
    "    if height<120 or height>230:\n",
    "        raise Exception(\"身高必需大於120同時小於230\")\n",
    "except Exception as e:\n",
    "    print(e)"
   ]
  },
  {
   "cell_type": "code",
   "execution_count": 32,
   "metadata": {},
   "outputs": [
    {
     "name": "stdout",
     "output_type": "stream",
     "text": [
      "身高必需大於120同時小於230\n"
     ]
    }
   ],
   "source": [
    "try:\n",
    "   height = float(input('請輸入身高(cm):')) \n",
    "   if height<120 or height>=230: \n",
    "      raise Exception(\"身高必需大於120同時小於230\")\n",
    "except Exception as a:\n",
    "   print(a)"
   ]
  },
  {
   "cell_type": "code",
   "execution_count": 29,
   "metadata": {},
   "outputs": [
    {
     "name": "stdout",
     "output_type": "stream",
     "text": [
      "錯誤: 體重必需大於40同時小於170\n"
     ]
    }
   ],
   "source": [
    "try:\n",
    "    name = input('請輸入姓名:')\n",
    "    height = float(input('請輸入身高(120~230)(cm):')) \n",
    "    if height<120 or height>230:\n",
    "        raise Exception(\"身高必需大於120同時小於230\")    \n",
    "    weight = float(input('請輸入體重(40~170)(kg):'))\n",
    "    if weight<40 or weight>170:\n",
    "        raise Exception(\"體重必需大於40同時小於170\")\n",
    "    bmi = weight / (height / 100) ** 2\n",
    "    print(f'{name}, 您的BMI: {round(bmi,ndigits=2)}')\n",
    "except Exception as e:\n",
    "    print(f'錯誤: {e}')"
   ]
  },
  {
   "cell_type": "code",
   "execution_count": null,
   "metadata": {},
   "outputs": [],
   "source": [
    "try:\n",
    "    name = input('請輸入姓名:')\n",
    "    height = float(input('請輸入身高(cm):')) \n",
    "    if height<120 or height>230:\n",
    "        raise Exception(\"身高必需大於120同時小於230\")    \n",
    "    weight = eval(input('請輸入體重(kg):'))\n",
    "    bmi = weight / (height / 100) ** 2\n",
    "    print(f'{name}, 您的BMI: {round(bmi,ndigits=2)}')\n",
    "except ValueError as e:\n",
    "    print(f'格式錯誤: {e}')\n",
    "except SyntaxError as e:\n",
    "    print(f'語法錯誤:體重錯誤')\n",
    "except Exception as e:\n",
    "    print(f'錯誤: {e}')"
   ]
  },
  {
   "cell_type": "markdown",
   "metadata": {},
   "source": [
    "作業:請修改呈現bmi的範圍"
   ]
  },
  {
   "cell_type": "code",
   "execution_count": 33,
   "metadata": {},
   "outputs": [
    {
     "name": "stdout",
     "output_type": "stream",
     "text": [
      "Jay, 您的BMI: 22.04\n",
      "正常範圍\n"
     ]
    }
   ],
   "source": [
    "try:\n",
    "    name = input('請輸入姓名:')\n",
    "    height = float(input('請輸入身高(120~230)(cm):')) \n",
    "    if height<120 or height>230:\n",
    "        raise Exception(\"身高必需大於120同時小於230\")    \n",
    "    weight = float(input('請輸入體重(40~170)(kg):'))\n",
    "    if weight<40 or weight>170:\n",
    "        raise Exception(\"體重必需大於40同時小於170\")\n",
    "           \n",
    "    bmi= weight / (height / 100) ** 2\n",
    "    print(f'{name}, 您的BMI: {round(bmi,ndigits=2)}')\n",
    "\n",
    "    if   bmi <18.5:\n",
    "         print(\"體重過輕\")\n",
    "    elif bmi <24:\n",
    "         print(\"正常範圍\")\n",
    "    elif bmi <27:\n",
    "         print(\"過重\")\n",
    "    elif bmi <30:\n",
    "         print(\"輕度肥胖\")\n",
    "    elif bmi <35:\n",
    "        print(\"中度肥胖\")\n",
    "    else: \n",
    "        bmi >=35\n",
    "        print(\"重度肥胖\")\n",
    "    \n",
    "except Exception as e:\n",
    "    print(f'錯誤: {e}')\n"
   ]
  },
  {
   "cell_type": "code",
   "execution_count": 38,
   "metadata": {},
   "outputs": [
    {
     "name": "stdout",
     "output_type": "stream",
     "text": [
      "may, 您的BMI: 30.93\n",
      "中度肥胖\n"
     ]
    }
   ],
   "source": [
    "try:\n",
    "    name = input('請輸入姓名:')\n",
    "    height = float(input('請輸入身高(120~230)(cm):')) \n",
    "    if height<120 or height>230:\n",
    "        raise Exception(\"身高必需大於120同時小於230\")    \n",
    "    weight = float(input('請輸入體重(40~170)(kg):'))\n",
    "    if weight<40 or weight>170:\n",
    "        raise Exception(\"體重必需大於40同時小於170\")\n",
    "           \n",
    "    bmi= weight / (height / 100) ** 2\n",
    "    print(f'{name}, 您的BMI: {round(bmi,ndigits=2)}')\n",
    "    \n",
    "    if  bmi<18.5:\n",
    "        print(\"體重過輕\")\n",
    "    elif bmi >=18.5 and bmi <24:\n",
    "         print(\"正常範圍\")\n",
    "    elif bmi >=24 and bmi <27:\n",
    "         print(\"過重\")\n",
    "    elif bmi >=27 and bmi <30:\n",
    "         print(\"輕度肥胖\")\n",
    "    elif bmi >=30 and bmi <35:\n",
    "         print(\"中度肥胖\")\n",
    "    else: \n",
    "        bmi >=35\n",
    "        print(\"重度肥胖\")\n",
    "except Exception as e:\n",
    "    print(f'錯誤: {e}')\n"
   ]
  },
  {
   "cell_type": "markdown",
   "metadata": {},
   "source": [
    "請使用pyInputPlus修改以下程式"
   ]
  },
  {
   "cell_type": "code",
   "execution_count": null,
   "metadata": {},
   "outputs": [],
   "source": [
    "try:\n",
    "    name = input('請輸入姓名:')\n",
    "    height = float(input('請輸入身高(120~230)(cm):')) \n",
    "    if height<120 or height>230:\n",
    "        raise Exception(\"身高必需大於120同時小於230\")    \n",
    "    weight = float(input('請輸入體重(40~170)(kg):'))\n",
    "    if weight<40 or weight>170:\n",
    "        raise Exception(\"體重必需大於40同時小於170\")\n",
    "    bmi = weight / (height / 100) ** 2\n",
    "    print(f'{name}, 您的BMI: {round(bmi,ndigits=2)}')\n",
    "except Exception as e:\n",
    "    print(f'錯誤: {e}')"
   ]
  },
  {
   "cell_type": "code",
   "execution_count": null,
   "metadata": {},
   "outputs": [],
   "source": [
    "try:\n",
    "    import pyinputplus as pyip  \n",
    "    name = input('請輸入姓名:')\n",
    "    height = pyip.inputFloat('請輸入身高(120~230)(cm):')\n",
    "    weight = float(input('請輸入體重(40~170)(kg):'))\n",
    "    if weight<40 or weight>170:\n",
    "        raise Exception(\"體重必需大於40同時小於170\")\n",
    "    bmi = weight / (height / 100) ** 2\n",
    "    print(f'{name}, 您的BMI: {round(bmi,ndigits=2)}')\n",
    "except Exception as e:\n",
    "    print(f'錯誤: {e}')\n",
    "    \n"
   ]
  }
 ],
 "metadata": {
  "kernelspec": {
   "display_name": "Python 3",
   "language": "python",
   "name": "python3"
  },
  "language_info": {
   "codemirror_mode": {
    "name": "ipython",
    "version": 3
   },
   "file_extension": ".py",
   "mimetype": "text/x-python",
   "name": "python",
   "nbconvert_exporter": "python",
   "pygments_lexer": "ipython3",
   "version": "3.10.14"
  }
 },
 "nbformat": 4,
 "nbformat_minor": 2
}
