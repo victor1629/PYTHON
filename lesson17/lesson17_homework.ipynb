{
 "cells": [
  {
   "cell_type": "code",
   "execution_count": 31,
   "metadata": {},
   "outputs": [],
   "source": [
    "import numpy as np\n",
    "import pandas as pd\n",
    "\n",
    "df1 = pd.read_csv('world.csv')\n",
    "df2 = df1.reindex(columns=['洲名','國家','日期','總確診數','新增確診數'])\n",
    "df3= df2.query ('國家==\"台灣\" | 國家==\"日本\"')\n",
    "t_j_2021_01_df = df3. query('日期>=\"2021-01-01\" and 日期<=\"2021-01-31\"')\n",
    "\n",
    "t_j_2021_01_df.to_csv('t_j_2021_01.csv',index=False)\n",
    "t_j_2021_01_df.to_excel('t_j_2021_01.xlsx',index=False,sheet_name='2021_01')\n",
    "t_j_2021_01_df.to_json('t_j_2021_01.json',orient='table',force_ascii=False)\n",
    " \n"
   ]
  }
 ],
 "metadata": {
  "kernelspec": {
   "display_name": "Python 3",
   "language": "python",
   "name": "python3"
  },
  "language_info": {
   "codemirror_mode": {
    "name": "ipython",
    "version": 3
   },
   "file_extension": ".py",
   "mimetype": "text/x-python",
   "name": "python",
   "nbconvert_exporter": "python",
   "pygments_lexer": "ipython3",
   "version": "3.10.14"
  }
 },
 "nbformat": 4,
 "nbformat_minor": 2
}
