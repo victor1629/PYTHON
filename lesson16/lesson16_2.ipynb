{
 "cells": [
  {
   "cell_type": "code",
   "execution_count": 1,
   "metadata": {},
   "outputs": [
    {
     "data": {
      "text/plain": [
       "['1號',\n",
       " '2號',\n",
       " '3號',\n",
       " '4號',\n",
       " '5號',\n",
       " '6號',\n",
       " '7號',\n",
       " '8號',\n",
       " '9號',\n",
       " '10號',\n",
       " '11號',\n",
       " '12號',\n",
       " '13號',\n",
       " '14號',\n",
       " '15號',\n",
       " '16號',\n",
       " '17號',\n",
       " '18號',\n",
       " '19號',\n",
       " '20號',\n",
       " '21號',\n",
       " '22號',\n",
       " '23號',\n",
       " '24號',\n",
       " '25號',\n",
       " '26號',\n",
       " '27號',\n",
       " '28號',\n",
       " '29號',\n",
       " '30號',\n",
       " '31號',\n",
       " '32號',\n",
       " '33號',\n",
       " '34號',\n",
       " '35號',\n",
       " '36號',\n",
       " '37號',\n",
       " '38號',\n",
       " '39號',\n",
       " '40號',\n",
       " '41號',\n",
       " '42號',\n",
       " '43號',\n",
       " '44號',\n",
       " '45號',\n",
       " '46號',\n",
       " '47號',\n",
       " '48號',\n",
       " '49號',\n",
       " '50號']"
      ]
     },
     "execution_count": 1,
     "metadata": {},
     "output_type": "execute_result"
    }
   ],
   "source": [
    "#list comprehension->快速建立list\n",
    "[f'{num}號' for num in range(1,51)]"
   ]
  },
  {
   "cell_type": "code",
   "execution_count": null,
   "metadata": {},
   "outputs": [],
   "source": [
    "import numpy as np\n",
    "import pandas as pd\n",
    "array_2d = np.random.randint(50,100,size=(50,5))\n",
    "df1 = pd.DataFrame(array_2d,\n",
    "             columns=['國文','英文','數學','地理','社會'],\n",
    "             index = [f'{num}號' for num in range(1,51)]\n",
    "             )\n",
    "df1"
   ]
  },
  {
   "cell_type": "code",
   "execution_count": 3,
   "metadata": {},
   "outputs": [
    {
     "data": {
      "text/plain": [
       "array([[57, 95, 58, 98, 95],\n",
       "       [56, 51, 85, 88, 86],\n",
       "       [88, 68, 90, 62, 97],\n",
       "       [54, 92, 88, 64, 51],\n",
       "       [75, 73, 77, 63, 79],\n",
       "       [96, 59, 97, 58, 73],\n",
       "       [59, 62, 93, 72, 94],\n",
       "       [82, 89, 88, 86, 65],\n",
       "       [93, 61, 52, 62, 91],\n",
       "       [88, 55, 76, 90, 69],\n",
       "       [58, 64, 94, 84, 59],\n",
       "       [53, 54, 85, 81, 98],\n",
       "       [91, 92, 95, 67, 94],\n",
       "       [58, 88, 79, 59, 63],\n",
       "       [79, 55, 53, 96, 51],\n",
       "       [98, 50, 69, 51, 57],\n",
       "       [83, 77, 54, 56, 89],\n",
       "       [96, 87, 94, 98, 56],\n",
       "       [53, 91, 89, 90, 59],\n",
       "       [67, 53, 99, 88, 82],\n",
       "       [68, 67, 67, 60, 71],\n",
       "       [56, 72, 86, 84, 97],\n",
       "       [88, 50, 82, 61, 70],\n",
       "       [58, 78, 71, 90, 98],\n",
       "       [55, 56, 60, 56, 98],\n",
       "       [89, 88, 87, 70, 70],\n",
       "       [73, 86, 95, 87, 81],\n",
       "       [86, 91, 84, 51, 95],\n",
       "       [86, 58, 68, 96, 55],\n",
       "       [66, 54, 68, 79, 51],\n",
       "       [97, 57, 76, 79, 79],\n",
       "       [70, 80, 66, 69, 75],\n",
       "       [62, 68, 76, 83, 89],\n",
       "       [81, 92, 71, 66, 55],\n",
       "       [57, 91, 63, 68, 68],\n",
       "       [90, 85, 74, 94, 93],\n",
       "       [73, 79, 82, 64, 54],\n",
       "       [80, 88, 89, 99, 73],\n",
       "       [77, 57, 72, 94, 69],\n",
       "       [51, 93, 97, 68, 76],\n",
       "       [59, 50, 71, 81, 91],\n",
       "       [88, 94, 66, 67, 84],\n",
       "       [67, 52, 68, 68, 58],\n",
       "       [89, 53, 70, 74, 78],\n",
       "       [75, 67, 58, 67, 85],\n",
       "       [69, 76, 57, 83, 86],\n",
       "       [98, 60, 62, 67, 50],\n",
       "       [63, 87, 76, 82, 93],\n",
       "       [81, 81, 96, 53, 63],\n",
       "       [91, 66, 55, 93, 74]])"
      ]
     },
     "execution_count": 3,
     "metadata": {},
     "output_type": "execute_result"
    }
   ],
   "source": [
    "#從dataFrame取出ndarray\n",
    "df1.values"
   ]
  },
  {
   "cell_type": "code",
   "execution_count": null,
   "metadata": {},
   "outputs": [],
   "source": [
    "#dataFrame[欄位名稱] subscript\n",
    "df1['國文'], df1['英文']"
   ]
  },
  {
   "cell_type": "code",
   "execution_count": 13,
   "metadata": {},
   "outputs": [
    {
     "name": "stderr",
     "output_type": "stream",
     "text": [
      "/tmp/ipykernel_25396/3448787725.py:3: FutureWarning: Series.__getitem__ treating keys as positions is deprecated. In a future version, integer keys will always be treated as labels (consistent with DataFrame behavior). To access a value by position, use `ser.iloc[pos]`\n",
      "  df1['國文'][0]\n"
     ]
    },
    {
     "data": {
      "text/plain": [
       "1號    57\n",
       "2號    56\n",
       "3號    88\n",
       "Name: 國文, dtype: int64"
      ]
     },
     "execution_count": 13,
     "metadata": {},
     "output_type": "execute_result"
    }
   ],
   "source": [
    "#Series的選取,使用subscript\n",
    "#Series[數值的index]\n",
    "df1['國文'][0]\n",
    "#Series[數值的slice]\n",
    "df1['國文'][:5]\n",
    "#Series[字串的index]\n",
    "df1['國文']['1號']\n",
    "#Series[[字串,字串,字串]]\n",
    "df1['國文'][['1號','2號','3號']]"
   ]
  },
  {
   "cell_type": "code",
   "execution_count": null,
   "metadata": {},
   "outputs": [],
   "source": [
    "#dataFrame的subscripts\n",
    "#dataFrame[欄位名稱]\n",
    "df1['國文']"
   ]
  },
  {
   "cell_type": "code",
   "execution_count": null,
   "metadata": {},
   "outputs": [],
   "source": [
    "#dataFrame的subscripts\n",
    "#dataFrame[[欄位名稱,欄位名稱]]\n",
    "df1[['國文','英文']]"
   ]
  },
  {
   "cell_type": "code",
   "execution_count": null,
   "metadata": {},
   "outputs": [],
   "source": [
    "#dataFrame的列的選取\n",
    "#loc[字串]\n",
    "#iloc[數值]"
   ]
  },
  {
   "cell_type": "code",
   "execution_count": 14,
   "metadata": {},
   "outputs": [
    {
     "data": {
      "text/plain": [
       "國文    57\n",
       "英文    95\n",
       "數學    58\n",
       "地理    98\n",
       "社會    95\n",
       "Name: 1號, dtype: int64"
      ]
     },
     "execution_count": 14,
     "metadata": {},
     "output_type": "execute_result"
    }
   ],
   "source": [
    "#選取1號\n",
    "#loc[字串]\n",
    "df1.loc['1號']"
   ]
  },
  {
   "cell_type": "code",
   "execution_count": 15,
   "metadata": {},
   "outputs": [
    {
     "data": {
      "text/html": [
       "<div>\n",
       "<style scoped>\n",
       "    .dataframe tbody tr th:only-of-type {\n",
       "        vertical-align: middle;\n",
       "    }\n",
       "\n",
       "    .dataframe tbody tr th {\n",
       "        vertical-align: top;\n",
       "    }\n",
       "\n",
       "    .dataframe thead th {\n",
       "        text-align: right;\n",
       "    }\n",
       "</style>\n",
       "<table border=\"1\" class=\"dataframe\">\n",
       "  <thead>\n",
       "    <tr style=\"text-align: right;\">\n",
       "      <th></th>\n",
       "      <th>國文</th>\n",
       "      <th>英文</th>\n",
       "      <th>數學</th>\n",
       "      <th>地理</th>\n",
       "      <th>社會</th>\n",
       "    </tr>\n",
       "  </thead>\n",
       "  <tbody>\n",
       "    <tr>\n",
       "      <th>1號</th>\n",
       "      <td>57</td>\n",
       "      <td>95</td>\n",
       "      <td>58</td>\n",
       "      <td>98</td>\n",
       "      <td>95</td>\n",
       "    </tr>\n",
       "    <tr>\n",
       "      <th>2號</th>\n",
       "      <td>56</td>\n",
       "      <td>51</td>\n",
       "      <td>85</td>\n",
       "      <td>88</td>\n",
       "      <td>86</td>\n",
       "    </tr>\n",
       "    <tr>\n",
       "      <th>3號</th>\n",
       "      <td>88</td>\n",
       "      <td>68</td>\n",
       "      <td>90</td>\n",
       "      <td>62</td>\n",
       "      <td>97</td>\n",
       "    </tr>\n",
       "  </tbody>\n",
       "</table>\n",
       "</div>"
      ],
      "text/plain": [
       "    國文  英文  數學  地理  社會\n",
       "1號  57  95  58  98  95\n",
       "2號  56  51  85  88  86\n",
       "3號  88  68  90  62  97"
      ]
     },
     "execution_count": 15,
     "metadata": {},
     "output_type": "execute_result"
    }
   ],
   "source": [
    "#選取1號,2號,3號\n",
    "#loc[[字串,字串]]\n",
    "df1.loc[['1號','2號','3號']]"
   ]
  },
  {
   "cell_type": "code",
   "execution_count": 16,
   "metadata": {},
   "outputs": [
    {
     "data": {
      "text/html": [
       "<div>\n",
       "<style scoped>\n",
       "    .dataframe tbody tr th:only-of-type {\n",
       "        vertical-align: middle;\n",
       "    }\n",
       "\n",
       "    .dataframe tbody tr th {\n",
       "        vertical-align: top;\n",
       "    }\n",
       "\n",
       "    .dataframe thead th {\n",
       "        text-align: right;\n",
       "    }\n",
       "</style>\n",
       "<table border=\"1\" class=\"dataframe\">\n",
       "  <thead>\n",
       "    <tr style=\"text-align: right;\">\n",
       "      <th></th>\n",
       "      <th>國文</th>\n",
       "      <th>英文</th>\n",
       "      <th>數學</th>\n",
       "      <th>地理</th>\n",
       "      <th>社會</th>\n",
       "    </tr>\n",
       "  </thead>\n",
       "  <tbody>\n",
       "    <tr>\n",
       "      <th>1號</th>\n",
       "      <td>57</td>\n",
       "      <td>95</td>\n",
       "      <td>58</td>\n",
       "      <td>98</td>\n",
       "      <td>95</td>\n",
       "    </tr>\n",
       "    <tr>\n",
       "      <th>2號</th>\n",
       "      <td>56</td>\n",
       "      <td>51</td>\n",
       "      <td>85</td>\n",
       "      <td>88</td>\n",
       "      <td>86</td>\n",
       "    </tr>\n",
       "    <tr>\n",
       "      <th>3號</th>\n",
       "      <td>88</td>\n",
       "      <td>68</td>\n",
       "      <td>90</td>\n",
       "      <td>62</td>\n",
       "      <td>97</td>\n",
       "    </tr>\n",
       "    <tr>\n",
       "      <th>4號</th>\n",
       "      <td>54</td>\n",
       "      <td>92</td>\n",
       "      <td>88</td>\n",
       "      <td>64</td>\n",
       "      <td>51</td>\n",
       "    </tr>\n",
       "    <tr>\n",
       "      <th>5號</th>\n",
       "      <td>75</td>\n",
       "      <td>73</td>\n",
       "      <td>77</td>\n",
       "      <td>63</td>\n",
       "      <td>79</td>\n",
       "    </tr>\n",
       "  </tbody>\n",
       "</table>\n",
       "</div>"
      ],
      "text/plain": [
       "    國文  英文  數學  地理  社會\n",
       "1號  57  95  58  98  95\n",
       "2號  56  51  85  88  86\n",
       "3號  88  68  90  62  97\n",
       "4號  54  92  88  64  51\n",
       "5號  75  73  77  63  79"
      ]
     },
     "execution_count": 16,
     "metadata": {},
     "output_type": "execute_result"
    }
   ],
   "source": [
    "#選取前5位\n",
    "#iloc[index:index]\n",
    "df1.iloc[:5]"
   ]
  },
  {
   "cell_type": "code",
   "execution_count": 17,
   "metadata": {},
   "outputs": [
    {
     "data": {
      "text/html": [
       "<div>\n",
       "<style scoped>\n",
       "    .dataframe tbody tr th:only-of-type {\n",
       "        vertical-align: middle;\n",
       "    }\n",
       "\n",
       "    .dataframe tbody tr th {\n",
       "        vertical-align: top;\n",
       "    }\n",
       "\n",
       "    .dataframe thead th {\n",
       "        text-align: right;\n",
       "    }\n",
       "</style>\n",
       "<table border=\"1\" class=\"dataframe\">\n",
       "  <thead>\n",
       "    <tr style=\"text-align: right;\">\n",
       "      <th></th>\n",
       "      <th>國文</th>\n",
       "      <th>英文</th>\n",
       "      <th>數學</th>\n",
       "      <th>地理</th>\n",
       "      <th>社會</th>\n",
       "    </tr>\n",
       "  </thead>\n",
       "  <tbody>\n",
       "    <tr>\n",
       "      <th>46號</th>\n",
       "      <td>69</td>\n",
       "      <td>76</td>\n",
       "      <td>57</td>\n",
       "      <td>83</td>\n",
       "      <td>86</td>\n",
       "    </tr>\n",
       "    <tr>\n",
       "      <th>47號</th>\n",
       "      <td>98</td>\n",
       "      <td>60</td>\n",
       "      <td>62</td>\n",
       "      <td>67</td>\n",
       "      <td>50</td>\n",
       "    </tr>\n",
       "    <tr>\n",
       "      <th>48號</th>\n",
       "      <td>63</td>\n",
       "      <td>87</td>\n",
       "      <td>76</td>\n",
       "      <td>82</td>\n",
       "      <td>93</td>\n",
       "    </tr>\n",
       "    <tr>\n",
       "      <th>49號</th>\n",
       "      <td>81</td>\n",
       "      <td>81</td>\n",
       "      <td>96</td>\n",
       "      <td>53</td>\n",
       "      <td>63</td>\n",
       "    </tr>\n",
       "    <tr>\n",
       "      <th>50號</th>\n",
       "      <td>91</td>\n",
       "      <td>66</td>\n",
       "      <td>55</td>\n",
       "      <td>93</td>\n",
       "      <td>74</td>\n",
       "    </tr>\n",
       "  </tbody>\n",
       "</table>\n",
       "</div>"
      ],
      "text/plain": [
       "     國文  英文  數學  地理  社會\n",
       "46號  69  76  57  83  86\n",
       "47號  98  60  62  67  50\n",
       "48號  63  87  76  82  93\n",
       "49號  81  81  96  53  63\n",
       "50號  91  66  55  93  74"
      ]
     },
     "execution_count": 17,
     "metadata": {},
     "output_type": "execute_result"
    }
   ],
   "source": [
    "#選取後5位\n",
    "#iloc[數值索引:數值索引]\n",
    "df1.iloc[-5:]"
   ]
  }
 ],
 "metadata": {
  "kernelspec": {
   "display_name": "Python 3",
   "language": "python",
   "name": "python3"
  },
  "language_info": {
   "codemirror_mode": {
    "name": "ipython",
    "version": 3
   },
   "file_extension": ".py",
   "mimetype": "text/x-python",
   "name": "python",
   "nbconvert_exporter": "python",
   "pygments_lexer": "ipython3",
   "version": "3.10.14"
  }
 },
 "nbformat": 4,
 "nbformat_minor": 2
}
