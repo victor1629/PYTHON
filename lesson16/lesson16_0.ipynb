{
 "cells": [
  {
   "cell_type": "code",
   "execution_count": null,
   "metadata": {},
   "outputs": [],
   "source": [
    "import matplotlib.pyplot as plt\n",
    "\n",
    "labels = ['Nokia', 'Samsung', 'Apple', 'Lumia']\n",
    "values = [20, 30, 45, 10]\n",
    "explode = [0.3, 0, 0, 0]\n",
    "colors = ['yellow', 'green', 'red', 'blue']\n",
    "\n",
    "figure = plt.figure(figsize=(5, 5), dpi=200, facecolor='#ADD8E6')\n",
    "axes = figure.add_subplot(1, 1, 1)\n",
    "axes.pie(values,\n",
    "         labels=labels,\n",
    "         explode=explode,\n",
    "         colors=colors,\n",
    "         autopct='%.1f%%',\n",
    "         startangle=180,\n",
    "         shadow={'ox': -0.01, 'oy': -0.01}\n",
    "        )\n",
    "plt.show()"
   ]
  }
 ],
 "metadata": {
  "kernelspec": {
   "display_name": "Python 3",
   "language": "python",
   "name": "python3"
  },
  "language_info": {
   "name": "python",
   "version": "3.10.14"
  }
 },
 "nbformat": 4,
 "nbformat_minor": 2
}
