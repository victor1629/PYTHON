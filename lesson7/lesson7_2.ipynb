{
 "cells": [
  {
   "cell_type": "code",
   "execution_count": 1,
   "metadata": {},
   "outputs": [
    {
     "name": "stdout",
     "output_type": "stream",
     "text": [
      "小明已存了30000\n"
     ]
    }
   ],
   "source": [
    "deposit = 0  \n",
    "while deposit <30000 :\n",
    "    deposit += 10000\n",
    "print(f'小明已存了{deposit}')\n"
   ]
  },
  {
   "cell_type": "code",
   "execution_count": 7,
   "metadata": {},
   "outputs": [
    {
     "name": "stdout",
     "output_type": "stream",
     "text": [
      "請輸入第1個月存的金額:17672\n",
      "請輸入第2個月存的金額:2678\n",
      "請輸入第3個月存的金額:2887\n",
      "請輸入第4個月存的金額:3678\n",
      "請輸入第5個月存的金額:18765\n",
      "最後一次存的金額是:18765\n",
      "小明已存了45680\n"
     ]
    }
   ],
   "source": [
    "#(練習)小明想要存錢買一輛機車,機車每輛30000元，他將每月存的錢輸入，當存款足夠買機車時，就顯示提示訊息告知。\n",
    "import pyinputplus as pyip\n",
    "deposit = 0\n",
    "num = 0\n",
    "while deposit <30000 :\n",
    "    input_money =pyip.inputInt(f\"請輸入第{num+1}個月存的金額:\")\n",
    "    print(input_money)\n",
    "    deposit += input_money\n",
    "    num += 1\n",
    "print(f\"最後一次存的金額是:{input_money}\")  \n",
    "print(f'小明已存了{deposit}')"
   ]
  },
  {
   "cell_type": "code",
   "execution_count": 3,
   "metadata": {},
   "outputs": [
    {
     "name": "stdout",
     "output_type": "stream",
     "text": [
      "請輸入這個月存的金額:10000\n",
      "請輸入這個月存的金額:4567\n",
      "請輸入這個月存的金額:8765\n",
      "請輸入這個月存的金額:9876\n",
      "最後一次存的金額是:9876\n",
      "小明已經存了33208元\n"
     ]
    }
   ],
   "source": [
    "#小明想要存錢買一輛機車,機車每輛30000元，他將每月存的錢輸入，當存款足夠買機車時，就顯示提示訊息告知。\n",
    "import pyinputplus as pyip\n",
    "deposit = 0\n",
    "while deposit < 30000:\n",
    "    input_money = pyip.inputInt(\"請輸入這個月存的金額:\")\n",
    "    print(input_money)\n",
    "    deposit += input_money\n",
    "print(f\"最後一次存的金額是:{input_money}\")\n",
    "print(f\"小明已經存了{deposit}元\")"
   ]
  },
  {
   "cell_type": "markdown",
   "metadata": {},
   "source": [
    "決定因子(跳出迴圈) : while deposit < 30000:"
   ]
  },
  {
   "cell_type": "code",
   "execution_count": null,
   "metadata": {},
   "outputs": [],
   "source": [
    "#小明想要存錢買一輛機車,機車每輛30000元，他將每月存的錢輸入，當存款足夠買機車時，就顯示提示訊息告知。\n",
    "\n",
    "import pyinputplus as pyip\n",
    "deposit = 0\n",
    "num = 0\n",
    "while deposit < 30000:\n",
    "    input_money = pyip.inputInt(f\"請輸入第{num+1}月存的金額:\")\n",
    "    print(input_money)\n",
    "    deposit += input_money\n",
    "    num += 1\n",
    "print(f\"最後一次存的金額是:{input_money}\")\n",
    "print(f\"小明總共存了{num}個月,已經存了{deposit}元\")"
   ]
  },
  {
   "cell_type": "markdown",
   "metadata": {},
   "source": [
    "決定因子:while True:\n",
    "\n",
    " break"
   ]
  },
  {
   "cell_type": "code",
   "execution_count": null,
   "metadata": {},
   "outputs": [],
   "source": [
    "import pyinputplus as pyip\n",
    "deposit = 0\n",
    "num = 0\n",
    "while True:\n",
    "    num += 1\n",
    "    input_money = pyip.inputInt(f\"請輸入第{num}月存的金額:\")\n",
    "    print(input_money)    \n",
    "    deposit += input_money\n",
    "    if deposit >= 30000:\n",
    "        break\n",
    "    \n",
    "print(f\"最後一次存的金額是:{input_money}\")\n",
    "print(f\"小明總共存了{num}個月,已經存了{deposit}元\")"
   ]
  },
  {
   "cell_type": "markdown",
   "metadata": {},
   "source": [
    "num += 1 位置要修改"
   ]
  },
  {
   "cell_type": "code",
   "execution_count": 3,
   "metadata": {},
   "outputs": [
    {
     "name": "stdout",
     "output_type": "stream",
     "text": [
      "請輸入第1月存的金額:8888\n",
      "請輸入第2月存的金額:7777\n",
      "請輸入第3月存的金額:6666\n",
      "請輸入第4月存的金額:9998\n",
      "最後一次存的金額是:9998\n",
      "小明總共存了3個月,已經存了33329元\n"
     ]
    }
   ],
   "source": [
    "#小明想要存錢買一輛機車,機車每輛30000元，他將每月存的錢輸入，當存款足夠買機車時，就顯示提示訊息告知。\n",
    "\n",
    "import pyinputplus as pyip\n",
    "deposit = 0\n",
    "num = 0\n",
    "while True :\n",
    "    input_money = pyip.inputInt(f\"請輸入第{num+1}月存的金額:\")\n",
    "    print(input_money)\n",
    "    deposit += input_money\n",
    "    if deposit >= 30000:\n",
    "        break\n",
    "    num += 1\n",
    "print(f\"最後一次存的金額是:{input_money}\")\n",
    "print(f\"小明總共存了{num}個月,已經存了{deposit}元\")"
   ]
  },
  {
   "cell_type": "markdown",
   "metadata": {},
   "source": [
    "上面修改後"
   ]
  },
  {
   "cell_type": "code",
   "execution_count": 9,
   "metadata": {},
   "outputs": [
    {
     "name": "stdout",
     "output_type": "stream",
     "text": [
      "請輸入第1月存的金額:12657\n",
      "請輸入第2月存的金額:'3678˙' is not an integer.\n",
      "請輸入第2月存的金額:2765\n",
      "請輸入第3月存的金額:3678\n",
      "請輸入第4月存的金額:3788\n",
      "請輸入第5月存的金額:16734\n",
      "最後一次存的金額是:16734\n",
      "小明總共存了5個月,已經存了39622元\n"
     ]
    }
   ],
   "source": [
    "\n",
    "import pyinputplus as pyip\n",
    "deposit = 0\n",
    "num = 0\n",
    "while True :\n",
    "    num += 1\n",
    "    input_money = pyip.inputInt(f\"請輸入第{num}月存的金額:\")\n",
    "    print(input_money)\n",
    "    deposit += input_money\n",
    "    if deposit >= 30000:\n",
    "        break\n",
    "    \n",
    "print(f\"最後一次存的金額是:{input_money}\")\n",
    "print(f\"小明總共存了{num}個月,已經存了{deposit}元\")"
   ]
  },
  {
   "cell_type": "code",
   "execution_count": null,
   "metadata": {},
   "outputs": [],
   "source": []
  },
  {
   "cell_type": "code",
   "execution_count": 4,
   "metadata": {},
   "outputs": [
    {
     "name": "stdout",
     "output_type": "stream",
     "text": [
      "5的平方是25\n",
      "不做事\n",
      "輸入錯誤\n",
      "應用程式結束\n"
     ]
    }
   ],
   "source": [
    "#請輸入整數,輸入[q]離開:\n",
    "#顯示:\n",
    "#奇數輸出平方\n",
    "#偶數不做任何動作\n",
    "#'q'要離開\n",
    "\n",
    "while(True):\n",
    "    value = input(\"請輸入整數,輸入[q]離開:\")\n",
    "    if value == 'q':\n",
    "        break\n",
    "    try:\n",
    "        valueInt = int(value)\n",
    "    except:\n",
    "        print(\"輸入錯誤\")\n",
    "        break\n",
    "    \n",
    "    if valueInt % 2 == 1:\n",
    "        print(f\"{valueInt}的平方是{valueInt ** 2}\")\n",
    "    else:\n",
    "        print(\"不做事\")\n",
    "\n",
    "print(\"應用程式結束\")"
   ]
  },
  {
   "cell_type": "code",
   "execution_count": 10,
   "metadata": {},
   "outputs": [
    {
     "name": "stdout",
     "output_type": "stream",
     "text": [
      "您輸入的value:9\n",
      "9的平方是81\n",
      "您輸入的value:6\n",
      "不做事\n",
      "您輸入的value:a\n",
      "輸入錯誤\n",
      "您輸入的value:q\n",
      "應用程式結束\n"
     ]
    }
   ],
   "source": [
    "#請輸入整數,輸入[q]離開:\n",
    "#顯示:\n",
    "#奇數輸出平方\n",
    "#偶數不做任何動作\n",
    "#'q'要離開\n",
    "\n",
    "while(True):\n",
    "    value = input(\"請輸入整數,輸入[q]離開:\")\n",
    "    print(f\"您輸入的value:{value}\")\n",
    "    if value == 'q':\n",
    "        break\n",
    "    try:\n",
    "        valueInt = int(value)\n",
    "    except:\n",
    "        print(\"輸入錯誤\")\n",
    "        continue\n",
    "    \n",
    "    if valueInt % 2 == 1:\n",
    "        print(f\"{valueInt}的平方是{valueInt ** 2}\")\n",
    "    else:\n",
    "        print(\"不做事\")\n",
    "\n",
    "print(\"應用程式結束\")"
   ]
  },
  {
   "cell_type": "markdown",
   "metadata": {},
   "source": [
    "輸入:\n",
    "請輸入整數,求所有因數:10\n",
    "\n",
    "輸出:\n",
    "10的因數是:\n",
    "1 2 5 10"
   ]
  },
  {
   "cell_type": "code",
   "execution_count": 42,
   "metadata": {},
   "outputs": [
    {
     "name": "stdout",
     "output_type": "stream",
     "text": [
      "請輸入整數,求所有因數:50\n",
      "50的因數是\n",
      "1 2 5 10 25 50 "
     ]
    }
   ],
   "source": [
    "import pyinputplus as pypi\n",
    "value = pypi.inputInt('請輸入整數,求所有因數:')\n",
    "print(f'{value}')\n",
    "print(f\"{value}的因數是\")\n",
    "     \n",
    "for i in range(1,value+1):\n",
    "     if value % i == 0 :\n",
    "           print(i,end=' ')  \n",
    "   \n",
    "    "
   ]
  },
  {
   "cell_type": "code",
   "execution_count": 40,
   "metadata": {},
   "outputs": [
    {
     "name": "stdout",
     "output_type": "stream",
     "text": [
      "請輸入整數,求所有因數:50\n",
      "50的因數是:1\n",
      "50的因數是:2\n",
      "50的因數是:5\n",
      "50的因數是:10\n",
      "50的因數是:25\n",
      "50的因數是:50\n"
     ]
    }
   ],
   "source": [
    "import pyinputplus as pypi\n",
    "value = pypi.inputInt('請輸入整數,求所有因數:')\n",
    "print(f'{value}')\n",
    "\n",
    "     \n",
    "for i in range(1,value+1):\n",
    "     if value % i == 0 :\n",
    "           print(f\"{value}的因數是:{i}\")"
   ]
  }
 ],
 "metadata": {
  "kernelspec": {
   "display_name": "Python 3",
   "language": "python",
   "name": "python3"
  },
  "language_info": {
   "codemirror_mode": {
    "name": "ipython",
    "version": 3
   },
   "file_extension": ".py",
   "mimetype": "text/x-python",
   "name": "python",
   "nbconvert_exporter": "python",
   "pygments_lexer": "ipython3",
   "version": "3.10.14"
  }
 },
 "nbformat": 4,
 "nbformat_minor": 2
}
