{
 "cells": [
  {
   "cell_type": "code",
   "execution_count": 1,
   "metadata": {},
   "outputs": [
    {
     "name": "stderr",
     "output_type": "stream",
     "text": [
      "/home/vscode/.local/lib/python3.10/site-packages/tqdm/auto.py:21: TqdmWarning: IProgress not found. Please update jupyter and ipywidgets. See https://ipywidgets.readthedocs.io/en/stable/user_install.html\n",
      "  from .autonotebook import tqdm as notebook_tqdm\n"
     ]
    },
    {
     "data": {
      "text/plain": [
       "True"
      ]
     },
     "execution_count": 1,
     "metadata": {},
     "output_type": "execute_result"
    }
   ],
   "source": [
    "import google.generativeai as genai\n",
    "from dotenv import load_dotenv\n",
    "load_dotenv()\n",
    "\n"
   ]
  },
  {
   "cell_type": "code",
   "execution_count": 2,
   "metadata": {},
   "outputs": [
    {
     "name": "stdout",
     "output_type": "stream",
     "text": [
      "**學習機器學習的步驟：**\n",
      "\n",
      "**1. 建立數學基礎：**\n",
      "* 線性代數、微積分、統計\n",
      "* 機率論：貝氏定理、條件機率\n",
      "\n",
      "**2. 學習程式語言：**\n",
      "* Python 或 R\n",
      "* 熟悉數據處理、可視化和建模函式庫\n",
      "\n",
      "**3. 理解機器學習基礎：**\n",
      "* 有監督學習 vs. 無監督學習\n",
      "* 常見的機器學習演算法：線性迴歸、邏輯迴歸、決策樹\n",
      "* 訓練、驗證和測試資料集\n",
      "\n",
      "**4. 實作機器學習專案：**\n",
      "* 使用真實世界資料建置模型\n",
      "* 評估模型效能\n",
      "* 調整超參數以改善模型\n",
      "\n",
      "**5. 進階主題：**\n",
      "* 深度學習：神經網路、卷積神經網路\n",
      "* 支援向量機\n",
      "* 隨機森林\n",
      "* 自然語言處理\n",
      "\n",
      "**學習資源：**\n",
      "\n",
      "**線上課程：**\n",
      "* Coursera：機器學習專門化\n",
      "* edX：機器學習實務\n",
      "* Udacity：入門機器學習\n",
      "\n",
      "**書籍：**\n",
      "* 《機器學習實戰》（Peter Harrington）\n",
      "* 《hands-on machine learning with scikit-learn, keras, and tensorflow》（Aurélien Géron）\n",
      "* 《The Elements of Statistical Learning》（Trevor Hastie、Robert Tibshirani、Jerome Friedman）\n",
      "\n",
      "**線上社群：**\n",
      "* Kaggle\n",
      "* Stack Overflow\n",
      "* Reddit r/MachineLearning\n",
      "\n",
      "**額外建議：**\n",
      "\n",
      "* 參與機器學習線上論壇和社群。\n",
      "* 透過工作坊或研討會與專家聯繫。\n",
      "* 經常練習，建置自己的專案。\n",
      "* 保持對機器學習領域的最新趨勢和進展。\n"
     ]
    }
   ],
   "source": [
    "import google.generativeai as genai\n",
    "from dotenv import load_dotenv\n",
    "import os\n",
    "load_dotenv()\n",
    "\n",
    "#genai.configure(api_key=GOOGLE_API_KEY)\n",
    "#GOOGLE_API_KEY 用 os.environ['Gemini_API_KEY']\n",
    "genai.configure(api_key=os.environ['Gemini_API_KEY'])\n",
    "model = genai.GenerativeModel('gemini-pro')\n",
    "response = model.generate_content('我想要學習`機器學習`')\n",
    "print(response.text)\n",
    "\n"
   ]
  }
 ],
 "metadata": {
  "kernelspec": {
   "display_name": "Python 3",
   "language": "python",
   "name": "python3"
  },
  "language_info": {
   "codemirror_mode": {
    "name": "ipython",
    "version": 3
   },
   "file_extension": ".py",
   "mimetype": "text/x-python",
   "name": "python",
   "nbconvert_exporter": "python",
   "pygments_lexer": "ipython3",
   "version": "3.10.14"
  }
 },
 "nbformat": 4,
 "nbformat_minor": 2
}
