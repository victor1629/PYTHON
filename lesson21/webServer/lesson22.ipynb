{
 "cells": [
  {
   "cell_type": "code",
   "execution_count": 1,
   "metadata": {},
   "outputs": [
    {
     "name": "stderr",
     "output_type": "stream",
     "text": [
      "/home/vscode/.local/lib/python3.10/site-packages/tqdm/auto.py:21: TqdmWarning: IProgress not found. Please update jupyter and ipywidgets. See https://ipywidgets.readthedocs.io/en/stable/user_install.html\n",
      "  from .autonotebook import tqdm as notebook_tqdm\n"
     ]
    },
    {
     "data": {
      "text/plain": [
       "True"
      ]
     },
     "execution_count": 1,
     "metadata": {},
     "output_type": "execute_result"
    }
   ],
   "source": [
    "import google.generativeai as genai\n",
    "from dotenv import load_dotenv\n",
    "load_dotenv()\n",
    "\n"
   ]
  },
  {
   "cell_type": "code",
   "execution_count": 1,
   "metadata": {},
   "outputs": [
    {
     "name": "stderr",
     "output_type": "stream",
     "text": [
      "/home/vscode/.local/lib/python3.10/site-packages/tqdm/auto.py:21: TqdmWarning: IProgress not found. Please update jupyter and ipywidgets. See https://ipywidgets.readthedocs.io/en/stable/user_install.html\n",
      "  from .autonotebook import tqdm as notebook_tqdm\n"
     ]
    },
    {
     "name": "stdout",
     "output_type": "stream",
     "text": [
      "**如何學習機器學習**\n",
      "\n",
      "**1. 建立基礎**\n",
      "\n",
      "* 了解線性代數、微積分和統計學的基本概念。\n",
      "* 學習 Python 或 R 等程式語言，因為它們廣泛用於機器學習。\n",
      "\n",
      "**2. 學習機器學習演算法**\n",
      "\n",
      "* 了解監督式學習（線性迴歸、邏輯迴歸、決策樹）\n",
      "* 了解非監督式學習（聚類、降維）\n",
      "* 了解深度學習（神經網路、卷積神經網路）\n",
      "\n",
      "**3. 尋找資源**\n",
      "\n",
      "* 網路課程：Coursera、edX、Udemy\n",
      "* 書籍：An Introduction to Statistical Learning、Machine Learning Yearning\n",
      "* 部落格和論壇：Towards Data Science、Kaggle\n",
      "\n",
      "**4. 練習與實務**\n",
      "\n",
      "* 在網路上尋找資料集來練習演算法。\n",
      "* 參加黑客馬拉松或機器學習競賽以獲得實務經驗。\n",
      "* 建構自己的機器學習專案。\n",
      "\n",
      "**5. 加入社群**\n",
      "\n",
      "* 加入機器學習社群，例如 Meetups 或 Slack 頻道。\n",
      "* 參與討論並與其他學習者聯絡。\n",
      "\n",
      "**建議的學習計畫：**\n",
      "\n",
      "**初學者：**\n",
      "\n",
      "* 學習 Python 或 R 的基礎\n",
      "* 了解機器學習的基本概念和演算法\n",
      "\n",
      "**進階學習者：**\n",
      "\n",
      "* 深入了解監督式和非監督式學習\n",
      "* 學習深度學習和自然語言處理\n",
      "* 應用機器學習解決實際問題\n",
      "\n",
      "**額外提示：**\n",
      "\n",
      "* 保持耐心和堅持不懈。\n",
      "* 尋求指導和回饋。\n",
      "* 關注理解而不是背誦。\n",
      "* 實踐是關鍵。\n",
      "* 持續學習，因為機器學習領域不斷發展。\n"
     ]
    }
   ],
   "source": [
    "import google.generativeai as genai\n",
    "from dotenv import load_dotenv\n",
    "import os\n",
    "load_dotenv()\n",
    "\n",
    "#genai.configure(api_key=GOOGLE_API_KEY)\n",
    "#GOOGLE_API_KEY 用 os.environ['Gemini_API_KEY']\n",
    "genai.configure(api_key=os.environ['Gemini_API_KEY'])\n",
    "model = genai.GenerativeModel('gemini-pro')\n",
    "response = model.generate_content('我想要學習`機器學習`')\n",
    "print(response.text)\n",
    "\n"
   ]
  }
 ],
 "metadata": {
  "kernelspec": {
   "display_name": "Python 3",
   "language": "python",
   "name": "python3"
  },
  "language_info": {
   "codemirror_mode": {
    "name": "ipython",
    "version": 3
   },
   "file_extension": ".py",
   "mimetype": "text/x-python",
   "name": "python",
   "nbconvert_exporter": "python",
   "pygments_lexer": "ipython3",
   "version": "3.10.14"
  }
 },
 "nbformat": 4,
 "nbformat_minor": 2
}
