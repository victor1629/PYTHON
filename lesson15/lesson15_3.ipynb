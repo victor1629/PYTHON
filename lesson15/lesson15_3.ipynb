{
 "cells": [
  {
   "cell_type": "code",
   "execution_count": 1,
   "metadata": {},
   "outputs": [
    {
     "name": "stdout",
     "output_type": "stream",
     "text": [
      "144\n",
      "===============\n",
      "170\n",
      "===============\n",
      "164\n",
      "===============\n",
      "167\n",
      "===============\n",
      "177\n",
      "===============\n"
     ]
    }
   ],
   "source": [
    "student1 = [69, 78, 72, 91, 85]\n",
    "student2 = [75, 92, 92, 76, 92]\n",
    "\n",
    "for i in range(len(student1)):\n",
    "    scores = student1[i] + student2[i]\n",
    "    print(scores)\n",
    "    print(\"===============\")"
   ]
  },
  {
   "cell_type": "code",
   "execution_count": 7,
   "metadata": {},
   "outputs": [
    {
     "data": {
      "text/plain": [
       "[69, 78, 72, 91, 85, 75, 92, 92, 76, 92]"
      ]
     },
     "execution_count": 7,
     "metadata": {},
     "output_type": "execute_result"
    }
   ],
   "source": [
    "student1 = [69, 78, 72, 91, 85]\n",
    "student2 = [75, 92, 92, 76, 92]\n",
    "\n",
    "student1 + student2"
   ]
  },
  {
   "cell_type": "code",
   "execution_count": 8,
   "metadata": {},
   "outputs": [],
   "source": [
    "import numpy as np"
   ]
  },
  {
   "cell_type": "code",
   "execution_count": 4,
   "metadata": {},
   "outputs": [
    {
     "name": "stdout",
     "output_type": "stream",
     "text": [
      "<class 'numpy.ndarray'>\n",
      "[75 92 92 76 92]\n",
      "===============\n",
      "[144 170 164 167 177]\n",
      "144\n",
      "=========\n",
      "170\n",
      "=========\n",
      "164\n",
      "=========\n",
      "167\n",
      "=========\n",
      "177\n",
      "=========\n"
     ]
    }
   ],
   "source": [
    "import numpy as np\n",
    "from numpy import ndarray\n",
    "student1:ndarray = np.array([69, 78, 72, 91, 85])\n",
    "print(type(student1))\n",
    "student2:ndarray = np.array([75, 92, 92, 76, 92])\n",
    "print(student2)  \n",
    "print(\"===============\")\n",
    "\n",
    "#可以做陣列運算,不需使用for...in\n",
    "print(student1 + student2)\n",
    "totals:ndarray = student1 + student2\n",
    "for total in totals:\n",
    "    print(total)\n",
    "    print(\"=========\")\n"
   ]
  },
  {
   "cell_type": "code",
   "execution_count": 13,
   "metadata": {},
   "outputs": [
    {
     "name": "stdout",
     "output_type": "stream",
     "text": [
      "[[1 2 3]\n",
      " [4 5 6]]\n",
      "2\n",
      "(2, 3)\n",
      "6\n",
      "int64\n"
     ]
    }
   ],
   "source": [
    "array:ndarray = np.array([[1,2,3],[4,5,6]])\n",
    "print(array)\n",
    "#property\n",
    "#ndim,shape,size,dtype\n",
    "#維度,形狀,數量,類型\n",
    "\n",
    "print(array.ndim)\n",
    "print(array.shape)\n",
    "print(array.size)\n",
    "print(array.dtype)"
   ]
  },
  {
   "cell_type": "code",
   "execution_count": 14,
   "metadata": {},
   "outputs": [
    {
     "data": {
      "text/plain": [
       "array([[ 62,  60,  53,  56,  59],\n",
       "       [ 87,  54,  57,  78,  52],\n",
       "       [ 88,  86,  86,  93,  56],\n",
       "       [ 65,  72,  79,  57,  89],\n",
       "       [ 86,  88,  59,  65,  76],\n",
       "       [ 64,  58,  86,  59,  51],\n",
       "       [ 89,  95,  57,  79,  64],\n",
       "       [100,  95,  73,  58,  60],\n",
       "       [ 58,  63,  85,  83,  74],\n",
       "       [ 85,  72,  68,  73,  96],\n",
       "       [ 64,  85,  83,  67,  52],\n",
       "       [ 77, 100,  71,  59,  87],\n",
       "       [ 98,  62,  62,  86,  65],\n",
       "       [ 50,  53,  81,  72,  54],\n",
       "       [ 68,  62,  60,  81,  97],\n",
       "       [ 60,  84,  54,  52,  64],\n",
       "       [ 69,  80,  93,  87,  98],\n",
       "       [ 55,  67,  82,  54,  93],\n",
       "       [ 56,  69,  97,  52,  61],\n",
       "       [ 86,  72,  50,  81,  77],\n",
       "       [ 50,  65,  92,  60,  64],\n",
       "       [ 93,  59,  99,  84,  91],\n",
       "       [ 96,  61,  54,  51,  51],\n",
       "       [ 80,  69,  84,  55,  51],\n",
       "       [ 86,  63,  83,  63,  64],\n",
       "       [ 97,  95,  63,  94,  77],\n",
       "       [ 89,  89,  99, 100,  66],\n",
       "       [ 76,  91,  84,  75,  58],\n",
       "       [ 71,  73,  67,  80,  67],\n",
       "       [ 57,  89,  84,  80,  56],\n",
       "       [ 67,  70,  98,  99,  51],\n",
       "       [ 83,  65,  80,  73,  51],\n",
       "       [ 70,  90,  83,  62,  59],\n",
       "       [ 84,  82,  84,  94,  51],\n",
       "       [ 78,  83,  75,  74,  68],\n",
       "       [ 80,  52,  76,  98,  60],\n",
       "       [ 78,  74,  81, 100,  57],\n",
       "       [ 62,  84,  74,  92,  63],\n",
       "       [ 82,  63,  73,  50,  97],\n",
       "       [ 81,  76,  50,  59,  85],\n",
       "       [ 52,  83,  83,  59,  92],\n",
       "       [ 83,  94,  56,  60,  50],\n",
       "       [ 94,  92,  96, 100,  55],\n",
       "       [ 94,  68,  51,  62,  55],\n",
       "       [ 68,  77,  62,  64,  96],\n",
       "       [ 53,  59,  94,  87,  94],\n",
       "       [ 96,  98,  78,  80,  89],\n",
       "       [ 61,  93,  88,  68,  62],\n",
       "       [ 74,  67,  57,  53,  89],\n",
       "       [ 70,  61,  95,  79,  74]])"
      ]
     },
     "execution_count": 14,
     "metadata": {},
     "output_type": "execute_result"
    }
   ],
   "source": [
    "np.random.randint(50,101,size=(50, 5))"
   ]
  }
 ],
 "metadata": {
  "kernelspec": {
   "display_name": "Python 3",
   "language": "python",
   "name": "python3"
  },
  "language_info": {
   "codemirror_mode": {
    "name": "ipython",
    "version": 3
   },
   "file_extension": ".py",
   "mimetype": "text/x-python",
   "name": "python",
   "nbconvert_exporter": "python",
   "pygments_lexer": "ipython3",
   "version": "3.10.14"
  }
 },
 "nbformat": 4,
 "nbformat_minor": 2
}
