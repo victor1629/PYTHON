{
 "cells": [
  {
   "cell_type": "markdown",
   "metadata": {},
   "source": [
    "純值的運算"
   ]
  },
  {
   "cell_type": "code",
   "execution_count": 12,
   "metadata": {},
   "outputs": [
    {
     "data": {
      "text/plain": [
       "25"
      ]
     },
     "execution_count": 12,
     "metadata": {},
     "output_type": "execute_result"
    }
   ],
   "source": [
    "5+10\n",
    "5.0+10\n",
    "int(\"15\")+10"
   ]
  },
  {
   "cell_type": "code",
   "execution_count": 13,
   "metadata": {},
   "outputs": [],
   "source": [
    "num1=5 + 10\n",
    "num2=5.0 + 10\n",
    "num3=int(\"15\")+ 10"
   ]
  },
  {
   "cell_type": "code",
   "execution_count": 17,
   "metadata": {},
   "outputs": [
    {
     "name": "stdout",
     "output_type": "stream",
     "text": [
      "15\n",
      "15.0\n",
      "25\n"
     ]
    }
   ],
   "source": [
    "print(num1)\n",
    "print(num2)\n",
    "print(num3)"
   ]
  },
  {
   "cell_type": "code",
   "execution_count": 18,
   "metadata": {},
   "outputs": [
    {
     "name": "stdout",
     "output_type": "stream",
     "text": [
      "圓面積計算\n",
      "圓半徑:15.0,圓面積:706.86\n",
      "圓半徑:15.0,圓面積:706.86\n",
      "計算圓面積\n",
      "圓半徑:20.0,圓面積:1256.63704\n",
      "圓半徑:20.0,圓面積:1256.63704\n",
      "圓半徑:20.00000,圓面積:1256.64\n"
     ]
    }
   ],
   "source": [
    "#計算圓面積\n",
    "print(\"圓面積計算\")\n",
    "radius:float=float(input(\"請輸入圓半徑:\"))\n",
    "PI=3.14159\n",
    "area:float= PI * radius ** 2   \n",
    "print(f\"圓半徑:{radius},圓面積:{PI * radius ** 2:.2f}\")\n",
    "print(f\"圓半徑:{radius},圓面積:{area:.2f}\")\n",
    "\n",
    "\n",
    "#-----------------------------------------------------------------\n",
    "#計算圓面積\n",
    "print(\"計算圓面積\")\n",
    "radius:float= float(input(\"請輸入半徑:\"))\n",
    "PI = 3.1415926\n",
    "area:float = PI * radius ** 2\n",
    "print(f\"圓半徑:{radius},圓面積:{PI * radius ** 2:.5f}\")\n",
    "print(f\"圓半徑:{radius},圓面積:{area}\")\n",
    "print(f\"圓半徑:{radius:.5f},圓面積:{area:.2f}\")\n",
    "\n",
    "\n"
   ]
  },
  {
   "cell_type": "code",
   "execution_count": null,
   "metadata": {},
   "outputs": [],
   "source": []
  }
 ],
 "metadata": {
  "kernelspec": {
   "display_name": "Python 3",
   "language": "python",
   "name": "python3"
  },
  "language_info": {
   "codemirror_mode": {
    "name": "ipython",
    "version": 3
   },
   "file_extension": ".py",
   "mimetype": "text/x-python",
   "name": "python",
   "nbconvert_exporter": "python",
   "pygments_lexer": "ipython3",
   "version": "3.10.14"
  }
 },
 "nbformat": 4,
 "nbformat_minor": 2
}
