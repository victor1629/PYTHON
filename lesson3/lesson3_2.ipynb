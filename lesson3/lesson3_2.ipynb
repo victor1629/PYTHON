{
 "cells": [
  {
   "cell_type": "markdown",
   "metadata": {},
   "source": [
    "輸出->print()\n",
    "輸入->input()"
   ]
  },
  {
   "cell_type": "code",
   "execution_count": 1,
   "metadata": {},
   "outputs": [
    {
     "name": "stdout",
     "output_type": "stream",
     "text": [
      "寬:10.0公分,高:20.0公分,面積:200.0平方公分\n"
     ]
    }
   ],
   "source": [
    "width:float = float(input(\"請輸入矩形的寬:\"))\n",
    "height:float = float(input('請輸入矩形高:'))\n",
    "area:float = width * height\n",
    "print(f'寬:{width}公分,高:{height}公分,面積:{area}平方公分')\n",
    "#print(f'寬:{width}公分,高:{height}公分,面積:{area}平方公分')"
   ]
  },
  {
   "cell_type": "markdown",
   "metadata": {},
   "source": [
    "copilot撰寫"
   ]
  },
  {
   "cell_type": "code",
   "execution_count": 7,
   "metadata": {},
   "outputs": [
    {
     "name": "stdout",
     "output_type": "stream",
     "text": [
      "圓的面積為：1256.64 平方公分\n"
     ]
    }
   ],
   "source": [
    "# 計算圓面積的公式：面積 = π * 半徑的平方\n",
    "import math\n",
    "\n",
    "def calculate_circle_area(radius):\n",
    "    \"\"\"\n",
    "    計算圓的面積。\n",
    "\n",
    "    Args:\n",
    "        radius (float): 圓的半徑。\n",
    "\n",
    "    Returns:\n",
    "        float: 圓的面積。\n",
    "    \"\"\"\n",
    "    area = math.pi * radius**2\n",
    "    return area\n",
    "\n",
    "# 輸入圓的半徑\n",
    "radius = float(input(\"請輸入圓的半徑（單位：公分）：\"))\n",
    "\n",
    "# 計算並輸出圓的面積\n",
    "circle_area = calculate_circle_area(radius)\n",
    "print(f\"圓的面積為：{circle_area:.2f} 平方公分\")"
   ]
  },
  {
   "cell_type": "code",
   "execution_count": 2,
   "metadata": {},
   "outputs": [
    {
     "name": "stdout",
     "output_type": "stream",
     "text": [
      "計算圓面積\n",
      "圓半徑:20.0,圓面積:1256.63704\n",
      "圓半徑:20.0,圓面積:1256.63704\n",
      "圓半徑:20.00000,圓面積:1256.64\n"
     ]
    }
   ],
   "source": [
    "#計算圓面積\n",
    "print(\"計算圓面積\")\n",
    "radius:float= float(input(\"請輸入半徑:\"))\n",
    "PI = 3.1415926\n",
    "area:float = PI * radius ** 2\n",
    "print(f\"圓半徑:{radius},圓面積:{PI * radius ** 2:.5f}\")\n",
    "print(f\"圓半徑:{radius},圓面積:{area}\")\n",
    "print(f\"圓半徑:{radius:.5f},圓面積:{area:.2f}\")\n"
   ]
  },
  {
   "cell_type": "code",
   "execution_count": 2,
   "metadata": {},
   "outputs": [
    {
     "name": "stdout",
     "output_type": "stream",
     "text": [
      "計算圓面積\n",
      "圓半徑:12.0,圓面積:452.38934\n",
      "圓半徑:12.0,圓面積:452.39\n",
      "圓半徑:12.00000,圓面積:452.39\n"
     ]
    }
   ],
   "source": [
    "#計算圓面積\n",
    "import math\n",
    "print(\"計算圓面積\")\n",
    "radius:float= float(input(\"請輸入半徑:\"))\n",
    "area:float = math.pi * radius ** 2\n",
    "print(f\"圓半徑:{radius},圓面積:{math.pi * radius ** 2:.5f}\")\n",
    "print(f\"圓半徑:{radius},圓面積:{area:.2f}\")\n",
    "print(f\"圓半徑:{radius:.5f},圓面積:{area:.2f}\")\n"
   ]
  },
  {
   "cell_type": "code",
   "execution_count": 8,
   "metadata": {},
   "outputs": [
    {
     "name": "stdout",
     "output_type": "stream",
     "text": [
      "Python 3.10.14\n"
     ]
    }
   ],
   "source": [
    "! python --version"
   ]
  }
 ],
 "metadata": {
  "kernelspec": {
   "display_name": "Python 3",
   "language": "python",
   "name": "python3"
  },
  "language_info": {
   "codemirror_mode": {
    "name": "ipython",
    "version": 3
   },
   "file_extension": ".py",
   "mimetype": "text/x-python",
   "name": "python",
   "nbconvert_exporter": "python",
   "pygments_lexer": "ipython3",
   "version": "3.10.14"
  }
 },
 "nbformat": 4,
 "nbformat_minor": 2
}
